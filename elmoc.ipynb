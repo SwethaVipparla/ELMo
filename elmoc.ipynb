{
  "cells": [
    {
      "cell_type": "code",
      "execution_count": 1,
      "metadata": {
        "colab": {
          "base_uri": "https://localhost:8080/"
        },
        "id": "U4usVcxsDbeb",
        "outputId": "639a29d4-c96a-4141-a121-82d705799857"
      },
      "outputs": [
        {
          "name": "stdout",
          "output_type": "stream",
          "text": [
            "Drive already mounted at /content/drive; to attempt to forcibly remount, call drive.mount(\"/content/drive\", force_remount=True).\n"
          ]
        }
      ],
      "source": [
        "from google.colab import drive\n",
        "drive.mount('/content/drive')"
      ]
    },
    {
      "cell_type": "code",
      "execution_count": 2,
      "metadata": {
        "id": "DVe1pr3KFKvQ"
      },
      "outputs": [],
      "source": [
        "import torch\n",
        "import pandas as pd\n",
        "import elmo_dataset as ds\n",
        "import nltk\n",
        "import unicodedata\n",
        "import re"
      ]
    },
    {
      "cell_type": "code",
      "execution_count": 3,
      "metadata": {
        "colab": {
          "base_uri": "https://localhost:8080/"
        },
        "id": "ETWPNGD8y6x1",
        "outputId": "50172588-158b-42ea-e412-51b3a6cfaad2"
      },
      "outputs": [
        {
          "name": "stderr",
          "output_type": "stream",
          "text": [
            "[nltk_data] Downloading package punkt to /root/nltk_data...\n",
            "[nltk_data]   Package punkt is already up-to-date!\n",
            "[nltk_data] Downloading package punkt to /root/nltk_data...\n",
            "[nltk_data]   Package punkt is already up-to-date!\n"
          ]
        }
      ],
      "source": [
        "def preprocess(csv):\n",
        "    df = pd.read_csv(csv)\n",
        "\n",
        "    df = df.dropna()\n",
        "    df = df.reset_index(drop=True)\n",
        "\n",
        "    def normalize_unicode(s):\n",
        "        return unicodedata.normalize('NFD', s)\n",
        "\n",
        "    def preprocess_text(text):\n",
        "        text = normalize_unicode(text)\n",
        "        text = re.sub(r\"(.)(\\1{2,})\", r\"\\1\", text)\n",
        "        text = re.sub(r\"[^a-zA-Z.,!?]+\", \" \", text)\n",
        "        text = text.strip().lower()\n",
        "        return text\n",
        "\n",
        "    nltk.download('punkt')\n",
        "\n",
        "    df['Description'] = df['Description'].apply(preprocess_text)\n",
        "    df['Description'] = df['Description'].apply(nltk.word_tokenize)\n",
        "\n",
        "    return df\n",
        "\n",
        "train_df = preprocess('/content/drive/MyDrive/train.csv')\n",
        "test_df = preprocess('/content/drive/MyDrive/test.csv')"
      ]
    },
    {
      "cell_type": "code",
      "execution_count": 4,
      "metadata": {
        "id": "rONzBJnkDaZt"
      },
      "outputs": [],
      "source": [
        "PRE_TRAIN_SET = 8000\n",
        "PRE_VAL_SET = 2000\n",
        "DOWNSTREAM_TRAIN_SET = 80000\n",
        "DOWNSTREAM_VAL_SET = 20000"
      ]
    },
    {
      "cell_type": "code",
      "execution_count": 5,
      "metadata": {
        "id": "CeE4PxpCFKvU"
      },
      "outputs": [],
      "source": [
        "train_set = list(train_df['Description'])\n",
        "pre_train_set = train_set[:PRE_TRAIN_SET]\n",
        "pre_val_set = train_set[PRE_TRAIN_SET:PRE_TRAIN_SET+PRE_VAL_SET]"
      ]
    },
    {
      "cell_type": "code",
      "execution_count": 6,
      "metadata": {
        "colab": {
          "base_uri": "https://localhost:8080/"
        },
        "id": "MbuIOGvQFKvU",
        "outputId": "d18117fa-52e9-4ec2-e4f8-4b1419fe291c"
      },
      "outputs": [
        {
          "name": "stdout",
          "output_type": "stream",
          "text": [
            "59352\n"
          ]
        }
      ],
      "source": [
        "vocab = ds.ELMO_Dataset.create_vocab(train_set)\n",
        "word_to_ix = {word: idx for idx, word in enumerate(vocab)}\n",
        "print(len(word_to_ix))"
      ]
    },
    {
      "cell_type": "code",
      "execution_count": 7,
      "metadata": {
        "id": "LElWE0J5FKvV"
      },
      "outputs": [],
      "source": [
        "from torch.nn.utils.rnn import pad_sequence\n",
        "\n",
        "def collate_fn(batch):\n",
        "    padded_batch = pad_sequence(batch, batch_first=True, padding_value=word_to_ix['<pad>'])\n",
        "    lengths = torch.LongTensor([len(x) for x in batch])\n",
        "\n",
        "    input_tensor = torch.LongTensor(padded_batch[:, :-1])\n",
        "    target_truth = torch.LongTensor(padded_batch[:, 1:])\n",
        "\n",
        "    return input_tensor, target_truth, lengths - 1"
      ]
    },
    {
      "cell_type": "code",
      "execution_count": 8,
      "metadata": {
        "id": "Sh0lM0plFKvV"
      },
      "outputs": [],
      "source": [
        "from torch.utils.data import DataLoader\n",
        "\n",
        "forward_pre_train_dataset = ds.ELMO_Dataset(pre_train_set, word_to_ix, 'Forward')\n",
        "forward_pre_val_dataset = ds.ELMO_Dataset(pre_val_set, word_to_ix, 'Forward')\n",
        "\n",
        "backward_pre_train_dataset = ds.ELMO_Dataset(pre_train_set, word_to_ix, 'Backward')\n",
        "backward_pre_val_dataset = ds.ELMO_Dataset(pre_val_set, word_to_ix, 'Backward')\n",
        "\n",
        "batch_size = 32\n",
        "\n",
        "forward_pre_train_loader = DataLoader(forward_pre_train_dataset, batch_size=batch_size, shuffle=True, collate_fn=collate_fn, pin_memory=True, num_workers=2)\n",
        "forward_pre_val_loader = DataLoader(forward_pre_val_dataset, batch_size=batch_size, shuffle=True, collate_fn=collate_fn, pin_memory=True, num_workers=2)\n",
        "\n",
        "backward_pre_train_loader = DataLoader(backward_pre_train_dataset, batch_size=batch_size, shuffle=True, collate_fn=collate_fn, pin_memory=True, num_workers=2)\n",
        "backward_pre_val_loader = DataLoader(backward_pre_val_dataset, batch_size=batch_size, shuffle=True, collate_fn=collate_fn, pin_memory=True, num_workers=2)"
      ]
    },
    {
      "cell_type": "code",
      "execution_count": 9,
      "metadata": {
        "colab": {
          "base_uri": "https://localhost:8080/"
        },
        "id": "xudp-rpZFKvV",
        "outputId": "92532fd4-8cd0-4e74-f342-5206b7537413"
      },
      "outputs": [
        {
          "name": "stdout",
          "output_type": "stream",
          "text": [
            "[==================================================] 100.0% 128.1/128.1MB downloaded\n"
          ]
        }
      ],
      "source": [
        "import gensim\n",
        "import gensim.downloader\n",
        "\n",
        "glove_vectors = gensim.downloader.load('glove-wiki-gigaword-100')"
      ]
    },
    {
      "cell_type": "code",
      "execution_count": 10,
      "metadata": {
        "id": "T2rWFfleFKvW"
      },
      "outputs": [],
      "source": [
        "import numpy as np\n",
        "\n",
        "def embedding_matrix(word_to_ix, glove_vectors):\n",
        "    embedding_dim = glove_vectors.vector_size\n",
        "    embedding_matrix = np.zeros((len(word_to_ix), embedding_dim))\n",
        "\n",
        "    average_vector = np.mean(glove_vectors.vectors, axis=0)\n",
        "\n",
        "    special_token_embeddings = {\n",
        "        '<pad>': np.zeros(embedding_dim),\n",
        "        '<unk>': average_vector,\n",
        "        '<sos>': np.random.randn(embedding_dim),\n",
        "        '<eos>': np.random.randn(embedding_dim)\n",
        "    }\n",
        "\n",
        "    for word, i in word_to_ix.items():\n",
        "        if word in glove_vectors:\n",
        "            embedding_vector = glove_vectors[word]\n",
        "        else:\n",
        "            embedding_vector = special_token_embeddings.get(word, average_vector)\n",
        "\n",
        "        embedding_matrix[i] = embedding_vector\n",
        "\n",
        "    print(embedding_matrix.shape)\n",
        "\n",
        "    return torch.FloatTensor(embedding_matrix)"
      ]
    },
    {
      "cell_type": "code",
      "execution_count": 11,
      "metadata": {
        "id": "mcwF22ehkQ0A"
      },
      "outputs": [],
      "source": [
        "import torch\n",
        "import torch.nn as nn\n",
        "from torch.nn.utils.rnn import pack_padded_sequence, pad_packed_sequence\n",
        "\n",
        "class ELMO(nn.Module):\n",
        "    def __init__(self, embedding_matrix, hidden_dim, num_layers, dropout, filename=None):\n",
        "        super(ELMO, self).__init__()\n",
        "\n",
        "        self.embedding_matrix = embedding_matrix\n",
        "        self.hidden_dim = hidden_dim\n",
        "        self.num_layers = num_layers\n",
        "        self.dropout = dropout\n",
        "\n",
        "        self.embedding = nn.Embedding.from_pretrained(embedding_matrix)\n",
        "        self.forward_lstm = nn.LSTM(embedding_matrix.shape[1], hidden_dim, num_layers, dropout=dropout, batch_first=True)\n",
        "        self.backward_lstm = nn.LSTM(embedding_matrix.shape[1], hidden_dim, num_layers, dropout=dropout, batch_first=True)\n",
        "        self.forward_linear = nn.Linear(hidden_dim, embedding_matrix.shape[0])\n",
        "        self.backward_linear = nn.Linear(hidden_dim, embedding_matrix.shape[0])\n",
        "\n",
        "        if filename:\n",
        "            self.load_state_dict(torch.load(filename), strict=False)\n",
        "\n",
        "    def forward(self, input_tensor, lengths, forward):\n",
        "        embedded = self.embedding(input_tensor)\n",
        "        output = pack_padded_sequence(embedded, lengths, batch_first=True, enforce_sorted=False)\n",
        "        if forward:\n",
        "            output, (h_n, c_n) = self.forward_lstm(output, None)\n",
        "            output, _ = pad_packed_sequence(output, batch_first=True)\n",
        "            output = self.forward_linear(output)\n",
        "        else:\n",
        "            output, (h_n, c_n) = self.backward_lstm(output, None)\n",
        "            output, _ = pad_packed_sequence(output, batch_first=True)\n",
        "            output = self.backward_linear(output)\n",
        "\n",
        "        return output, h_n, c_n, embedded"
      ]
    },
    {
      "cell_type": "code",
      "execution_count": 12,
      "metadata": {
        "id": "sFvUaUuaFKvX"
      },
      "outputs": [],
      "source": [
        "from tqdm import tqdm\n",
        "\n",
        "def run_epoch(model, data_loader, loss_fn, epoch, forward, optimizer=None):\n",
        "    if optimizer:\n",
        "        model.train()\n",
        "    else:\n",
        "        model.eval()\n",
        "\n",
        "    total_loss = 0\n",
        "    p_bar = tqdm(data_loader)\n",
        "\n",
        "    for (input_tensor, target_truth, lengths) in p_bar:\n",
        "\n",
        "        input_tensor = input_tensor.cuda()\n",
        "        target_truth = target_truth.cuda()\n",
        "\n",
        "        output, _, _, _= model(input_tensor, lengths, forward)\n",
        "        output = output.reshape(-1, output.shape[2])\n",
        "\n",
        "        target_truth = target_truth.reshape(-1)\n",
        "        loss = loss_fn(output, target_truth)\n",
        "        total_loss += loss.item()\n",
        "\n",
        "        if optimizer:\n",
        "            optimizer.zero_grad()\n",
        "            loss.backward()\n",
        "            optimizer.step()\n",
        "\n",
        "        mean_loss = total_loss / len(data_loader)\n",
        "\n",
        "        p_bar.set_description(f'{\"T\" if optimizer else \"V\"} Loss: {mean_loss:.4f}, count: {epoch}')\n",
        "\n",
        "    return mean_loss"
      ]
    },
    {
      "cell_type": "code",
      "execution_count": 13,
      "metadata": {
        "id": "B_bi722aFKvX"
      },
      "outputs": [],
      "source": [
        "import torch.nn as nn\n",
        "\n",
        "\n",
        "def train(optimizer, embedding_dimension, hidden_dimension, dropout_rate, learning_rate):\n",
        "    num_epochs = 50\n",
        "\n",
        "    glove_vectors = gensim.downloader.load(f'glove-wiki-gigaword-{embedding_dimension}')\n",
        "    loss_fn = nn.CrossEntropyLoss(ignore_index=word_to_ix['<pad>'])\n",
        "\n",
        "    model = ELMO(embedding_matrix(word_to_ix, glove_vectors), hidden_dimension, 1, dropout_rate)\n",
        "\n",
        "    optimizer = getattr(torch.optim, optimizer)(model.parameters(), lr=learning_rate)\n",
        "\n",
        "    model.cuda()\n",
        "\n",
        "    best_val_loss = float('inf')\n",
        "\n",
        "    all_val_loss = []\n",
        "    all_train_loss = []\n",
        "\n",
        "    for epoch in range(num_epochs):\n",
        "\n",
        "        forward_train_loss = run_epoch(model, forward_pre_train_loader, loss_fn, epoch+1, 1, optimizer)\n",
        "        backward_train_loss = run_epoch(model, backward_pre_train_loader, loss_fn, epoch+1, 0, optimizer)\n",
        "\n",
        "        with torch.no_grad():\n",
        "            forward_val_loss = run_epoch(model, forward_pre_val_loader, loss_fn, epoch+1, 1)\n",
        "            backward_val_loss = run_epoch(model, backward_pre_val_loader, loss_fn, epoch+1, 0)\n",
        "\n",
        "        print('Epoch: {}, F Train Loss: {:.4f}, F Val Loss: {:.4f}'.format(epoch+1, forward_train_loss, forward_val_loss))\n",
        "        print('Epoch: {}, B Train Loss: {:.4f}, B Val Loss: {:.4f}'.format(epoch+1, backward_train_loss, backward_val_loss))\n",
        "        average_train_loss = (forward_train_loss + backward_train_loss) / 2\n",
        "        average_val_loss = (forward_val_loss + backward_val_loss) / 2\n",
        "\n",
        "        all_train_loss.append(average_train_loss)\n",
        "        all_val_loss.append(average_val_loss)\n",
        "        print('Average Train Loss: {:.4f}, Average Val Loss: {:.4f}'.format(average_train_loss, average_val_loss))\n",
        "        print('-------------------------------------------------------')\n",
        "\n",
        "        if average_val_loss < best_val_loss:\n",
        "            counter = 0\n",
        "            best_val_loss = average_val_loss\n",
        "            torch.save(model.state_dict(), 'best_elmo_model.pth')\n",
        "        else:\n",
        "            counter += 1\n",
        "            if counter == 3:\n",
        "                break\n",
        "\n",
        "    return all_train_loss, all_val_loss"
      ]
    },
    {
      "cell_type": "code",
      "execution_count": 14,
      "metadata": {
        "colab": {
          "base_uri": "https://localhost:8080/"
        },
        "id": "Jc3pjymYcyXw",
        "outputId": "5ae0fd1b-935c-45dd-f601-4befb1df284f"
      },
      "outputs": [
        {
          "name": "stdout",
          "output_type": "stream",
          "text": [
            "(59352, 100)\n"
          ]
        },
        {
          "name": "stderr",
          "output_type": "stream",
          "text": [
            "/usr/local/lib/python3.10/dist-packages/torch/nn/modules/rnn.py:71: UserWarning: dropout option adds dropout after all but last recurrent layer, so non-zero dropout expects num_layers greater than 1, but got dropout=0.2 and num_layers=1\n",
            "  warnings.warn(\"dropout option adds dropout after all but last \"\n",
            "T Loss: 7.5269, count: 1: 100%|██████████| 250/250 [00:13<00:00, 18.12it/s]\n",
            "T Loss: 7.5311, count: 1: 100%|██████████| 250/250 [00:12<00:00, 19.52it/s]\n",
            "V Loss: 7.1496, count: 1: 100%|██████████| 63/63 [00:01<00:00, 41.82it/s]\n",
            "V Loss: 7.1377, count: 1: 100%|██████████| 63/63 [00:01<00:00, 42.89it/s]\n"
          ]
        },
        {
          "name": "stdout",
          "output_type": "stream",
          "text": [
            "Epoch: 1, F Train Loss: 7.5269, F Val Loss: 7.1496\n",
            "Epoch: 1, B Train Loss: 7.5311, B Val Loss: 7.1377\n",
            "Average Train Loss: 7.5290, Average Val Loss: 7.1437\n",
            "-------------------------------------------------------\n"
          ]
        },
        {
          "name": "stderr",
          "output_type": "stream",
          "text": [
            "T Loss: 6.8465, count: 2: 100%|██████████| 250/250 [00:12<00:00, 19.27it/s]\n",
            "T Loss: 6.8316, count: 2: 100%|██████████| 250/250 [00:12<00:00, 19.24it/s]\n",
            "V Loss: 6.9644, count: 2: 100%|██████████| 63/63 [00:01<00:00, 42.40it/s]\n",
            "V Loss: 6.9503, count: 2: 100%|██████████| 63/63 [00:01<00:00, 41.94it/s]\n"
          ]
        },
        {
          "name": "stdout",
          "output_type": "stream",
          "text": [
            "Epoch: 2, F Train Loss: 6.8465, F Val Loss: 6.9644\n",
            "Epoch: 2, B Train Loss: 6.8316, B Val Loss: 6.9503\n",
            "Average Train Loss: 6.8391, Average Val Loss: 6.9573\n",
            "-------------------------------------------------------\n"
          ]
        },
        {
          "name": "stderr",
          "output_type": "stream",
          "text": [
            "T Loss: 6.5904, count: 3: 100%|██████████| 250/250 [00:13<00:00, 18.90it/s]\n",
            "T Loss: 6.5717, count: 3: 100%|██████████| 250/250 [00:13<00:00, 18.78it/s]\n",
            "V Loss: 6.7541, count: 3: 100%|██████████| 63/63 [00:01<00:00, 41.82it/s]\n",
            "V Loss: 6.7432, count: 3: 100%|██████████| 63/63 [00:01<00:00, 42.05it/s]\n"
          ]
        },
        {
          "name": "stdout",
          "output_type": "stream",
          "text": [
            "Epoch: 3, F Train Loss: 6.5904, F Val Loss: 6.7541\n",
            "Epoch: 3, B Train Loss: 6.5717, B Val Loss: 6.7432\n",
            "Average Train Loss: 6.5811, Average Val Loss: 6.7486\n",
            "-------------------------------------------------------\n"
          ]
        },
        {
          "name": "stderr",
          "output_type": "stream",
          "text": [
            "T Loss: 6.3392, count: 4: 100%|██████████| 250/250 [00:13<00:00, 18.71it/s]\n",
            "T Loss: 6.3183, count: 4: 100%|██████████| 250/250 [00:13<00:00, 18.45it/s]\n",
            "V Loss: 6.5792, count: 4: 100%|██████████| 63/63 [00:01<00:00, 39.80it/s]\n",
            "V Loss: 6.5644, count: 4: 100%|██████████| 63/63 [00:01<00:00, 37.14it/s]\n"
          ]
        },
        {
          "name": "stdout",
          "output_type": "stream",
          "text": [
            "Epoch: 4, F Train Loss: 6.3392, F Val Loss: 6.5792\n",
            "Epoch: 4, B Train Loss: 6.3183, B Val Loss: 6.5644\n",
            "Average Train Loss: 6.3287, Average Val Loss: 6.5718\n",
            "-------------------------------------------------------\n"
          ]
        },
        {
          "name": "stderr",
          "output_type": "stream",
          "text": [
            "T Loss: 6.1190, count: 5: 100%|██████████| 250/250 [00:13<00:00, 18.20it/s]\n",
            "T Loss: 6.0983, count: 5: 100%|██████████| 250/250 [00:13<00:00, 18.11it/s]\n",
            "V Loss: 6.4301, count: 5: 100%|██████████| 63/63 [00:01<00:00, 36.96it/s]\n",
            "V Loss: 6.4227, count: 5: 100%|██████████| 63/63 [00:01<00:00, 38.33it/s]\n"
          ]
        },
        {
          "name": "stdout",
          "output_type": "stream",
          "text": [
            "Epoch: 5, F Train Loss: 6.1190, F Val Loss: 6.4301\n",
            "Epoch: 5, B Train Loss: 6.0983, B Val Loss: 6.4227\n",
            "Average Train Loss: 6.1086, Average Val Loss: 6.4264\n",
            "-------------------------------------------------------\n"
          ]
        },
        {
          "name": "stderr",
          "output_type": "stream",
          "text": [
            "T Loss: 5.9288, count: 6: 100%|██████████| 250/250 [00:13<00:00, 18.20it/s]\n",
            "T Loss: 5.9173, count: 6: 100%|██████████| 250/250 [00:13<00:00, 18.25it/s]\n",
            "V Loss: 6.3217, count: 6: 100%|██████████| 63/63 [00:01<00:00, 41.90it/s]\n",
            "V Loss: 6.3207, count: 6: 100%|██████████| 63/63 [00:01<00:00, 41.34it/s]\n"
          ]
        },
        {
          "name": "stdout",
          "output_type": "stream",
          "text": [
            "Epoch: 6, F Train Loss: 5.9288, F Val Loss: 6.3217\n",
            "Epoch: 6, B Train Loss: 5.9173, B Val Loss: 6.3207\n",
            "Average Train Loss: 5.9231, Average Val Loss: 6.3212\n",
            "-------------------------------------------------------\n"
          ]
        },
        {
          "name": "stderr",
          "output_type": "stream",
          "text": [
            "T Loss: 5.7666, count: 7: 100%|██████████| 250/250 [00:13<00:00, 18.39it/s]\n",
            "T Loss: 5.7662, count: 7: 100%|██████████| 250/250 [00:13<00:00, 18.43it/s]\n",
            "V Loss: 6.2397, count: 7: 100%|██████████| 63/63 [00:01<00:00, 41.19it/s]\n",
            "V Loss: 6.2486, count: 7: 100%|██████████| 63/63 [00:01<00:00, 40.72it/s]\n"
          ]
        },
        {
          "name": "stdout",
          "output_type": "stream",
          "text": [
            "Epoch: 7, F Train Loss: 5.7666, F Val Loss: 6.2397\n",
            "Epoch: 7, B Train Loss: 5.7662, B Val Loss: 6.2486\n",
            "Average Train Loss: 5.7664, Average Val Loss: 6.2441\n",
            "-------------------------------------------------------\n"
          ]
        },
        {
          "name": "stderr",
          "output_type": "stream",
          "text": [
            "T Loss: 5.6239, count: 8: 100%|██████████| 250/250 [00:13<00:00, 18.40it/s]\n",
            "T Loss: 5.6334, count: 8: 100%|██████████| 250/250 [00:13<00:00, 18.29it/s]\n",
            "V Loss: 6.1710, count: 8: 100%|██████████| 63/63 [00:01<00:00, 41.47it/s]\n",
            "V Loss: 6.1856, count: 8: 100%|██████████| 63/63 [00:01<00:00, 42.09it/s]\n"
          ]
        },
        {
          "name": "stdout",
          "output_type": "stream",
          "text": [
            "Epoch: 8, F Train Loss: 5.6239, F Val Loss: 6.1710\n",
            "Epoch: 8, B Train Loss: 5.6334, B Val Loss: 6.1856\n",
            "Average Train Loss: 5.6286, Average Val Loss: 6.1783\n",
            "-------------------------------------------------------\n"
          ]
        },
        {
          "name": "stderr",
          "output_type": "stream",
          "text": [
            "T Loss: 5.4959, count: 9: 100%|██████████| 250/250 [00:13<00:00, 18.29it/s]\n",
            "T Loss: 5.5118, count: 9: 100%|██████████| 250/250 [00:13<00:00, 18.56it/s]\n",
            "V Loss: 6.1151, count: 9: 100%|██████████| 63/63 [00:01<00:00, 39.95it/s]\n",
            "V Loss: 6.1346, count: 9: 100%|██████████| 63/63 [00:01<00:00, 36.93it/s]\n"
          ]
        },
        {
          "name": "stdout",
          "output_type": "stream",
          "text": [
            "Epoch: 9, F Train Loss: 5.4959, F Val Loss: 6.1151\n",
            "Epoch: 9, B Train Loss: 5.5118, B Val Loss: 6.1346\n",
            "Average Train Loss: 5.5038, Average Val Loss: 6.1249\n",
            "-------------------------------------------------------\n"
          ]
        },
        {
          "name": "stderr",
          "output_type": "stream",
          "text": [
            "T Loss: 5.3809, count: 10: 100%|██████████| 250/250 [00:13<00:00, 18.11it/s]\n",
            "T Loss: 5.4033, count: 10: 100%|██████████| 250/250 [00:13<00:00, 17.95it/s]\n",
            "V Loss: 6.0670, count: 10: 100%|██████████| 63/63 [00:01<00:00, 35.17it/s]\n",
            "V Loss: 6.0841, count: 10: 100%|██████████| 63/63 [00:01<00:00, 35.17it/s]\n"
          ]
        },
        {
          "name": "stdout",
          "output_type": "stream",
          "text": [
            "Epoch: 10, F Train Loss: 5.3809, F Val Loss: 6.0670\n",
            "Epoch: 10, B Train Loss: 5.4033, B Val Loss: 6.0841\n",
            "Average Train Loss: 5.3921, Average Val Loss: 6.0756\n",
            "-------------------------------------------------------\n"
          ]
        },
        {
          "name": "stderr",
          "output_type": "stream",
          "text": [
            "T Loss: 5.2751, count: 11: 100%|██████████| 250/250 [00:13<00:00, 18.21it/s]\n",
            "T Loss: 5.3014, count: 11: 100%|██████████| 250/250 [00:13<00:00, 18.26it/s]\n",
            "V Loss: 6.0305, count: 11: 100%|██████████| 63/63 [00:01<00:00, 38.45it/s]\n",
            "V Loss: 6.0480, count: 11: 100%|██████████| 63/63 [00:01<00:00, 40.94it/s]\n"
          ]
        },
        {
          "name": "stdout",
          "output_type": "stream",
          "text": [
            "Epoch: 11, F Train Loss: 5.2751, F Val Loss: 6.0305\n",
            "Epoch: 11, B Train Loss: 5.3014, B Val Loss: 6.0480\n",
            "Average Train Loss: 5.2882, Average Val Loss: 6.0392\n",
            "-------------------------------------------------------\n"
          ]
        },
        {
          "name": "stderr",
          "output_type": "stream",
          "text": [
            "T Loss: 5.1802, count: 12: 100%|██████████| 250/250 [00:13<00:00, 18.35it/s]\n",
            "T Loss: 5.2054, count: 12: 100%|██████████| 250/250 [00:13<00:00, 18.34it/s]\n",
            "V Loss: 5.9975, count: 12: 100%|██████████| 63/63 [00:01<00:00, 41.41it/s]\n",
            "V Loss: 6.0176, count: 12: 100%|██████████| 63/63 [00:01<00:00, 40.72it/s]\n"
          ]
        },
        {
          "name": "stdout",
          "output_type": "stream",
          "text": [
            "Epoch: 12, F Train Loss: 5.1802, F Val Loss: 5.9975\n",
            "Epoch: 12, B Train Loss: 5.2054, B Val Loss: 6.0176\n",
            "Average Train Loss: 5.1928, Average Val Loss: 6.0076\n",
            "-------------------------------------------------------\n"
          ]
        },
        {
          "name": "stderr",
          "output_type": "stream",
          "text": [
            "T Loss: 5.0891, count: 13: 100%|██████████| 250/250 [00:13<00:00, 18.55it/s]\n",
            "T Loss: 5.1174, count: 13: 100%|██████████| 250/250 [00:13<00:00, 18.26it/s]\n",
            "V Loss: 5.9707, count: 13: 100%|██████████| 63/63 [00:01<00:00, 41.20it/s]\n",
            "V Loss: 5.9924, count: 13: 100%|██████████| 63/63 [00:01<00:00, 41.74it/s]\n"
          ]
        },
        {
          "name": "stdout",
          "output_type": "stream",
          "text": [
            "Epoch: 13, F Train Loss: 5.0891, F Val Loss: 5.9707\n",
            "Epoch: 13, B Train Loss: 5.1174, B Val Loss: 5.9924\n",
            "Average Train Loss: 5.1033, Average Val Loss: 5.9816\n",
            "-------------------------------------------------------\n"
          ]
        },
        {
          "name": "stderr",
          "output_type": "stream",
          "text": [
            "T Loss: 5.0062, count: 14: 100%|██████████| 250/250 [00:13<00:00, 18.30it/s]\n",
            "T Loss: 5.0340, count: 14: 100%|██████████| 250/250 [00:13<00:00, 18.35it/s]\n",
            "V Loss: 5.9544, count: 14: 100%|██████████| 63/63 [00:01<00:00, 41.70it/s]\n",
            "V Loss: 5.9743, count: 14: 100%|██████████| 63/63 [00:01<00:00, 40.52it/s]\n"
          ]
        },
        {
          "name": "stdout",
          "output_type": "stream",
          "text": [
            "Epoch: 14, F Train Loss: 5.0062, F Val Loss: 5.9544\n",
            "Epoch: 14, B Train Loss: 5.0340, B Val Loss: 5.9743\n",
            "Average Train Loss: 5.0201, Average Val Loss: 5.9643\n",
            "-------------------------------------------------------\n"
          ]
        },
        {
          "name": "stderr",
          "output_type": "stream",
          "text": [
            "T Loss: 4.9259, count: 15: 100%|██████████| 250/250 [00:13<00:00, 18.37it/s]\n",
            "T Loss: 4.9548, count: 15: 100%|██████████| 250/250 [00:13<00:00, 18.32it/s]\n",
            "V Loss: 5.9378, count: 15: 100%|██████████| 63/63 [00:01<00:00, 39.61it/s]\n",
            "V Loss: 5.9563, count: 15: 100%|██████████| 63/63 [00:01<00:00, 36.99it/s]\n"
          ]
        },
        {
          "name": "stdout",
          "output_type": "stream",
          "text": [
            "Epoch: 15, F Train Loss: 4.9259, F Val Loss: 5.9378\n",
            "Epoch: 15, B Train Loss: 4.9548, B Val Loss: 5.9563\n",
            "Average Train Loss: 4.9403, Average Val Loss: 5.9470\n",
            "-------------------------------------------------------\n"
          ]
        },
        {
          "name": "stderr",
          "output_type": "stream",
          "text": [
            "T Loss: 4.8535, count: 16: 100%|██████████| 250/250 [00:13<00:00, 18.22it/s]\n",
            "T Loss: 4.8813, count: 16: 100%|██████████| 250/250 [00:13<00:00, 18.29it/s]\n",
            "V Loss: 5.9222, count: 16: 100%|██████████| 63/63 [00:01<00:00, 37.72it/s]\n",
            "V Loss: 5.9492, count: 16: 100%|██████████| 63/63 [00:01<00:00, 41.32it/s]\n"
          ]
        },
        {
          "name": "stdout",
          "output_type": "stream",
          "text": [
            "Epoch: 16, F Train Loss: 4.8535, F Val Loss: 5.9222\n",
            "Epoch: 16, B Train Loss: 4.8813, B Val Loss: 5.9492\n",
            "Average Train Loss: 4.8674, Average Val Loss: 5.9357\n",
            "-------------------------------------------------------\n"
          ]
        },
        {
          "name": "stderr",
          "output_type": "stream",
          "text": [
            "T Loss: 4.7865, count: 17: 100%|██████████| 250/250 [00:13<00:00, 18.53it/s]\n",
            "T Loss: 4.8132, count: 17: 100%|██████████| 250/250 [00:13<00:00, 18.25it/s]\n",
            "V Loss: 5.9159, count: 17: 100%|██████████| 63/63 [00:01<00:00, 41.48it/s]\n",
            "V Loss: 5.9308, count: 17: 100%|██████████| 63/63 [00:01<00:00, 41.79it/s]\n"
          ]
        },
        {
          "name": "stdout",
          "output_type": "stream",
          "text": [
            "Epoch: 17, F Train Loss: 4.7865, F Val Loss: 5.9159\n",
            "Epoch: 17, B Train Loss: 4.8132, B Val Loss: 5.9308\n",
            "Average Train Loss: 4.7999, Average Val Loss: 5.9234\n",
            "-------------------------------------------------------\n"
          ]
        },
        {
          "name": "stderr",
          "output_type": "stream",
          "text": [
            "T Loss: 4.7198, count: 18: 100%|██████████| 250/250 [00:13<00:00, 18.34it/s]\n",
            "T Loss: 4.7479, count: 18: 100%|██████████| 250/250 [00:13<00:00, 18.36it/s]\n",
            "V Loss: 5.9106, count: 18: 100%|██████████| 63/63 [00:01<00:00, 40.74it/s]\n",
            "V Loss: 5.9306, count: 18: 100%|██████████| 63/63 [00:01<00:00, 41.60it/s]\n"
          ]
        },
        {
          "name": "stdout",
          "output_type": "stream",
          "text": [
            "Epoch: 18, F Train Loss: 4.7198, F Val Loss: 5.9106\n",
            "Epoch: 18, B Train Loss: 4.7479, B Val Loss: 5.9306\n",
            "Average Train Loss: 4.7339, Average Val Loss: 5.9206\n",
            "-------------------------------------------------------\n"
          ]
        },
        {
          "name": "stderr",
          "output_type": "stream",
          "text": [
            "T Loss: 4.6569, count: 19: 100%|██████████| 250/250 [00:13<00:00, 18.25it/s]\n",
            "T Loss: 4.6849, count: 19: 100%|██████████| 250/250 [00:13<00:00, 18.25it/s]\n",
            "V Loss: 5.9082, count: 19: 100%|██████████| 63/63 [00:01<00:00, 40.88it/s]\n",
            "V Loss: 5.9284, count: 19: 100%|██████████| 63/63 [00:01<00:00, 41.27it/s]\n"
          ]
        },
        {
          "name": "stdout",
          "output_type": "stream",
          "text": [
            "Epoch: 19, F Train Loss: 4.6569, F Val Loss: 5.9082\n",
            "Epoch: 19, B Train Loss: 4.6849, B Val Loss: 5.9284\n",
            "Average Train Loss: 4.6709, Average Val Loss: 5.9183\n",
            "-------------------------------------------------------\n"
          ]
        },
        {
          "name": "stderr",
          "output_type": "stream",
          "text": [
            "T Loss: 4.5999, count: 20: 100%|██████████| 250/250 [00:13<00:00, 18.16it/s]\n",
            "T Loss: 4.6280, count: 20: 100%|██████████| 250/250 [00:13<00:00, 18.42it/s]\n",
            "V Loss: 5.9067, count: 20: 100%|██████████| 63/63 [00:01<00:00, 39.35it/s]\n",
            "V Loss: 5.9230, count: 20: 100%|██████████| 63/63 [00:01<00:00, 36.17it/s]\n"
          ]
        },
        {
          "name": "stdout",
          "output_type": "stream",
          "text": [
            "Epoch: 20, F Train Loss: 4.5999, F Val Loss: 5.9067\n",
            "Epoch: 20, B Train Loss: 4.6280, B Val Loss: 5.9230\n",
            "Average Train Loss: 4.6140, Average Val Loss: 5.9148\n",
            "-------------------------------------------------------\n"
          ]
        },
        {
          "name": "stderr",
          "output_type": "stream",
          "text": [
            "T Loss: 4.5435, count: 21: 100%|██████████| 250/250 [00:13<00:00, 18.22it/s]\n",
            "T Loss: 4.5716, count: 21: 100%|██████████| 250/250 [00:13<00:00, 18.30it/s]\n",
            "V Loss: 5.9058, count: 21: 100%|██████████| 63/63 [00:01<00:00, 36.61it/s]\n",
            "V Loss: 5.9308, count: 21: 100%|██████████| 63/63 [00:01<00:00, 39.85it/s]\n"
          ]
        },
        {
          "name": "stdout",
          "output_type": "stream",
          "text": [
            "Epoch: 21, F Train Loss: 4.5435, F Val Loss: 5.9058\n",
            "Epoch: 21, B Train Loss: 4.5716, B Val Loss: 5.9308\n",
            "Average Train Loss: 4.5575, Average Val Loss: 5.9183\n",
            "-------------------------------------------------------\n"
          ]
        },
        {
          "name": "stderr",
          "output_type": "stream",
          "text": [
            "T Loss: 4.4915, count: 22: 100%|██████████| 250/250 [00:13<00:00, 18.31it/s]\n",
            "T Loss: 4.5194, count: 22: 100%|██████████| 250/250 [00:13<00:00, 18.51it/s]\n",
            "V Loss: 5.9063, count: 22: 100%|██████████| 63/63 [00:01<00:00, 40.44it/s]\n",
            "V Loss: 5.9303, count: 22: 100%|██████████| 63/63 [00:01<00:00, 40.80it/s]\n"
          ]
        },
        {
          "name": "stdout",
          "output_type": "stream",
          "text": [
            "Epoch: 22, F Train Loss: 4.4915, F Val Loss: 5.9063\n",
            "Epoch: 22, B Train Loss: 4.5194, B Val Loss: 5.9303\n",
            "Average Train Loss: 4.5054, Average Val Loss: 5.9183\n",
            "-------------------------------------------------------\n"
          ]
        },
        {
          "name": "stderr",
          "output_type": "stream",
          "text": [
            "T Loss: 4.4412, count: 23: 100%|██████████| 250/250 [00:13<00:00, 18.23it/s]\n",
            "T Loss: 4.4688, count: 23: 100%|██████████| 250/250 [00:13<00:00, 18.55it/s]\n",
            "V Loss: 5.9169, count: 23: 100%|██████████| 63/63 [00:01<00:00, 42.26it/s]\n",
            "V Loss: 5.9391, count: 23: 100%|██████████| 63/63 [00:01<00:00, 40.96it/s]\n"
          ]
        },
        {
          "name": "stdout",
          "output_type": "stream",
          "text": [
            "Epoch: 23, F Train Loss: 4.4412, F Val Loss: 5.9169\n",
            "Epoch: 23, B Train Loss: 4.4688, B Val Loss: 5.9391\n",
            "Average Train Loss: 4.4550, Average Val Loss: 5.9280\n",
            "-------------------------------------------------------\n"
          ]
        }
      ],
      "source": [
        "all_emlo_train_loss, all_elmo_val_loss = train('Adam', 100, 100, 0.2, 0.001)"
      ]
    },
    {
      "cell_type": "code",
      "execution_count": 15,
      "metadata": {
        "id": "RatJ0z5XcyXw"
      },
      "outputs": [],
      "source": [
        "from torch.utils.data import DataLoader, Dataset\n",
        "\n",
        "class Downstream_Dataset(Dataset):\n",
        "    def __init__(self, data_set, labels, word_to_ix):\n",
        "        self.data_set = [['<sos>'] + x + ['<eos>'] for x in data_set]\n",
        "        self.word_to_ix = word_to_ix\n",
        "        self.indexed_data = [[word_to_ix.get(word, word_to_ix['<unk>']) for word in sentence] for sentence in self.data_set]\n",
        "        self.labels = labels\n",
        "\n",
        "    def __len__(self):\n",
        "        return len(self.data_set)\n",
        "\n",
        "    def __getitem__(self, idx):\n",
        "        return torch.tensor(self.indexed_data[idx]), torch.tensor(self.indexed_data[idx][::-1]), torch.tensor(self.labels[idx])"
      ]
    },
    {
      "cell_type": "code",
      "execution_count": 16,
      "metadata": {
        "id": "p-SU9a_GcyXw"
      },
      "outputs": [],
      "source": [
        "from torch.nn.utils.rnn import pad_sequence\n",
        "\n",
        "def downstream_collate_fn(batch):\n",
        "    x_forward = pad_sequence([x[0] for x in batch], batch_first=True, padding_value=word_to_ix['<pad>'])\n",
        "    x_backward = pad_sequence([x[1] for x in batch], batch_first=True, padding_value=word_to_ix['<pad>'])\n",
        "\n",
        "    lengths = torch.LongTensor([len(x[0]) for x in batch])\n",
        "    labels = torch.LongTensor([x[2] - 1 for x in batch])\n",
        "\n",
        "    return x_forward, x_backward, lengths, labels"
      ]
    },
    {
      "cell_type": "code",
      "execution_count": 17,
      "metadata": {
        "id": "7_ivKVg8cyXx"
      },
      "outputs": [],
      "source": [
        "train_labels = list(train_df['Class Index'])\n",
        "\n",
        "downstream_train_set = train_set[PRE_TRAIN_SET+PRE_VAL_SET:PRE_TRAIN_SET+PRE_VAL_SET+DOWNSTREAM_TRAIN_SET]\n",
        "downstream_train_labels = train_labels[PRE_TRAIN_SET+PRE_VAL_SET:PRE_TRAIN_SET+PRE_VAL_SET+DOWNSTREAM_TRAIN_SET]\n",
        "downstream_val_set = train_set[PRE_TRAIN_SET+PRE_VAL_SET+DOWNSTREAM_TRAIN_SET:PRE_TRAIN_SET+PRE_VAL_SET+DOWNSTREAM_TRAIN_SET+DOWNSTREAM_VAL_SET]\n",
        "downstream_val_labels = train_labels[PRE_TRAIN_SET+PRE_VAL_SET+DOWNSTREAM_TRAIN_SET:PRE_TRAIN_SET+PRE_VAL_SET+DOWNSTREAM_TRAIN_SET+DOWNSTREAM_VAL_SET]"
      ]
    },
    {
      "cell_type": "code",
      "execution_count": 18,
      "metadata": {
        "id": "Za351g7PcyXx"
      },
      "outputs": [],
      "source": [
        "downstream_train_dataset = Downstream_Dataset(downstream_train_set, downstream_train_labels, word_to_ix)\n",
        "downstream_val_dataset = Downstream_Dataset(downstream_val_set, downstream_val_labels, word_to_ix)\n",
        "\n",
        "downstream_train_loader = DataLoader(downstream_train_dataset, batch_size=32, shuffle=True, pin_memory=True, num_workers=2, collate_fn=downstream_collate_fn)\n",
        "downstream_val_loader = DataLoader(downstream_val_dataset, batch_size=32, shuffle=False, pin_memory=True, num_workers=2, collate_fn=downstream_collate_fn)"
      ]
    },
    {
      "cell_type": "code",
      "execution_count": 19,
      "metadata": {
        "id": "oByT9VtMcyXx"
      },
      "outputs": [],
      "source": [
        "import torch.nn as nn\n",
        "\n",
        "class Downstream_Model(nn.Module):\n",
        "    def __init__(self, embedding_matrix, hidden_dim, num_layers, num_classes, dropout):\n",
        "        super(Downstream_Model, self).__init__()\n",
        "\n",
        "        self.embedding_matrix = embedding_matrix\n",
        "        self.hidden_dim = hidden_dim\n",
        "        self.num_layers = num_layers\n",
        "        self.num_classes = num_classes\n",
        "        self.dropout = dropout\n",
        "\n",
        "        self.elmo = ELMO(embedding_matrix, hidden_dim, num_layers, dropout, 'best_elmo_model.pth')\n",
        "\n",
        "        for param in self.elmo.parameters():\n",
        "            param.requires_grad = False\n",
        "\n",
        "        self.delta = nn.Parameter(torch.randn(1, 3))\n",
        "        self.linear = nn.Sequential(\n",
        "            nn.Linear(2 * hidden_dim, 100),\n",
        "            nn.ReLU(),\n",
        "            nn.Linear(100, num_classes)\n",
        "        )\n",
        "\n",
        "    def forward(self, forward_input, backward_input, lengths):\n",
        "        _, forward_h_n, forward_c_n, input = self.elmo(forward_input, lengths, 1)\n",
        "        _, backward_h_n, backward_c_n, _ = self.elmo(backward_input, lengths, 0)\n",
        "\n",
        "        input = torch.mean(input, dim=1)\n",
        "\n",
        "        hidden = torch.cat([forward_h_n.permute(1, 0, 2), backward_h_n.permute(1, 0, 2)], dim=2)\n",
        "        cell = torch.cat([forward_c_n.permute(1, 0, 2), backward_c_n.permute(1, 0, 2)], dim=2)\n",
        "        mean = (hidden + cell) / 2\n",
        "\n",
        "        input = torch.cat([input] * mean.shape[1], dim=1).unsqueeze(1)\n",
        "\n",
        "        output = torch.cat([mean, input], dim=1)\n",
        "        output = torch.matmul(self.delta / torch.sum(self.delta), output)\n",
        "\n",
        "        output = output.squeeze(0)\n",
        "\n",
        "        output = self.linear(output)\n",
        "        return output"
      ]
    },
    {
      "cell_type": "code",
      "execution_count": 20,
      "metadata": {
        "id": "-95t09yYcyXx"
      },
      "outputs": [],
      "source": [
        "num_classes = 4\n",
        "\n",
        "def run_downstream_epoch(model, data_loader, loss_fn, epoch, optimizer=None):\n",
        "    if optimizer:\n",
        "        model.train()\n",
        "    else:\n",
        "        model.eval()\n",
        "\n",
        "    total_loss = 0\n",
        "\n",
        "    p_bar = tqdm(data_loader)\n",
        "\n",
        "    for (x_forward, x_backward, lengths, labels) in p_bar:\n",
        "        x_forward = x_forward.cuda()\n",
        "        x_backward = x_backward.cuda()\n",
        "\n",
        "        labels = labels.cuda()\n",
        "\n",
        "        output = model(x_forward, x_backward, lengths)\n",
        "\n",
        "        output = output.reshape(-1, output.shape[-1])\n",
        "\n",
        "        loss = loss_fn(output, labels)\n",
        "        total_loss += loss.item()\n",
        "\n",
        "        if optimizer:\n",
        "            optimizer.zero_grad()\n",
        "            loss.backward()\n",
        "            optimizer.step()\n",
        "\n",
        "\n",
        "        mean_loss = total_loss / len(data_loader)\n",
        "\n",
        "        p_bar.set_description(f'{\"T\" if optimizer else \"V\"} Loss: {mean_loss:.4f}, count: {epoch}')\n",
        "\n",
        "    return mean_loss"
      ]
    },
    {
      "cell_type": "code",
      "execution_count": 21,
      "metadata": {
        "id": "ksTr671DcyXx"
      },
      "outputs": [],
      "source": [
        "import torch.nn as nn\n",
        "\n",
        "def train_downstream_classifier(optimizer, downstream_model):\n",
        "    num_epochs = 100\n",
        "\n",
        "    loss_fn = nn.CrossEntropyLoss(ignore_index=word_to_ix['<pad>'])\n",
        "\n",
        "    optimizer = getattr(torch.optim, optimizer)(downstream_model.parameters(), lr=0.001)\n",
        "\n",
        "    best_val_loss = float('inf')\n",
        "\n",
        "    all_val_loss = []\n",
        "    all_train_loss = []\n",
        "\n",
        "    for epoch in range(num_epochs):\n",
        "        train_loss= run_downstream_epoch(downstream_model, downstream_train_loader, loss_fn, epoch+1, optimizer)\n",
        "        all_train_loss.append(train_loss)\n",
        "\n",
        "        with torch.no_grad():\n",
        "            val_loss= run_downstream_epoch(downstream_model, downstream_val_loader, loss_fn, epoch+1)\n",
        "            all_val_loss.append(val_loss)\n",
        "\n",
        "        print('Epoch: {}, Train Loss: {:.4f}, Val Loss: {:.4f}'.format(epoch+1, train_loss, val_loss))\n",
        "\n",
        "        if val_loss < best_val_loss:\n",
        "            counter = 0\n",
        "            best_val_loss = val_loss\n",
        "            torch.save(downstream_model.state_dict(), 'best_downstream_model.pth')\n",
        "        else:\n",
        "            counter += 1\n",
        "            if counter == 3:\n",
        "                break\n",
        "\n",
        "    downstream_model.load_state_dict(torch.load('best_downstream_model.pth'))\n",
        "    return all_train_loss, all_val_loss, downstream_model"
      ]
    },
    {
      "cell_type": "code",
      "execution_count": 25,
      "metadata": {
        "id": "GXkPqXCXy6x9"
      },
      "outputs": [],
      "source": [
        "test_set = list(test_df['Description'])\n",
        "test_labels = list(test_df['Class Index'])\n",
        "\n",
        "test_dataset = Downstream_Dataset(test_set, test_labels, word_to_ix)\n",
        "test_loader = DataLoader(test_dataset, batch_size=32, shuffle=False, pin_memory=True, num_workers=2, collate_fn=downstream_collate_fn)"
      ]
    },
    {
      "cell_type": "code",
      "execution_count": 26,
      "metadata": {
        "id": "6Hqmg_EIl_dB"
      },
      "outputs": [],
      "source": [
        "from sklearn.metrics import classification_report, confusion_matrix\n",
        "import seaborn as sns\n",
        "import matplotlib.pyplot as plt\n",
        "\n",
        "def test_downstream_classifier(downstream_model):\n",
        "    loss_fn = nn.CrossEntropyLoss(ignore_index=word_to_ix['<pad>'])\n",
        "    downstream_model.eval()\n",
        "\n",
        "    pred_labels = []\n",
        "    true_labels = []\n",
        "    total_loss = []\n",
        "\n",
        "    with torch.no_grad():\n",
        "        for x_forward, x_backward, lengths, labels in test_loader:\n",
        "            x_forward = x_forward.cuda()\n",
        "            x_backward = x_backward.cuda()\n",
        "            labels = labels.cuda()\n",
        "\n",
        "            output = downstream_model(x_forward, x_backward, lengths)\n",
        "\n",
        "            output = output.reshape(-1, output.shape[-1])\n",
        "\n",
        "            loss = loss_fn(output, labels)\n",
        "            total_loss.append(loss.item())\n",
        "\n",
        "            _, predicted = torch.max(output, 1)\n",
        "            pred_labels.extend(predicted.tolist())\n",
        "            true_labels.extend(labels.tolist())\n",
        "\n",
        "    mean_loss = np.mean(total_loss)\n",
        "\n",
        "    print('Test Loss: {:.4f}'.format(mean_loss))\n",
        "\n",
        "    print(classification_report(true_labels, pred_labels))\n",
        "    cm = confusion_matrix(true_labels, pred_labels)\n",
        "    sns.heatmap(cm, annot=True, fmt='d', cmap='Blues')\n"
      ]
    },
    {
      "cell_type": "code",
      "execution_count": 28,
      "metadata": {
        "colab": {
          "base_uri": "https://localhost:8080/",
          "height": 1000
        },
        "id": "LVHf0M7zy6x9",
        "outputId": "50fa0abf-9905-4fcf-8aef-033e25092dea"
      },
      "outputs": [
        {
          "name": "stdout",
          "output_type": "stream",
          "text": [
            "(59352, 100)\n"
          ]
        },
        {
          "name": "stderr",
          "output_type": "stream",
          "text": [
            "T Loss: 0.4523, count: 1: 100%|██████████| 2500/2500 [01:06<00:00, 37.43it/s]\n",
            "V Loss: 0.3765, count: 1: 100%|██████████| 625/625 [00:14<00:00, 42.35it/s]\n"
          ]
        },
        {
          "name": "stdout",
          "output_type": "stream",
          "text": [
            "Epoch: 1, Train Loss: 0.4523, Val Loss: 0.3765\n"
          ]
        },
        {
          "name": "stderr",
          "output_type": "stream",
          "text": [
            "T Loss: 0.4084, count: 2: 100%|██████████| 2500/2500 [01:06<00:00, 37.74it/s]\n",
            "V Loss: 0.3823, count: 2: 100%|██████████| 625/625 [00:14<00:00, 43.03it/s]\n"
          ]
        },
        {
          "name": "stdout",
          "output_type": "stream",
          "text": [
            "Epoch: 2, Train Loss: 0.4084, Val Loss: 0.3823\n"
          ]
        },
        {
          "name": "stderr",
          "output_type": "stream",
          "text": [
            "T Loss: 0.3950, count: 3: 100%|██████████| 2500/2500 [01:05<00:00, 38.17it/s]\n",
            "V Loss: 0.3714, count: 3: 100%|██████████| 625/625 [00:14<00:00, 42.70it/s]\n"
          ]
        },
        {
          "name": "stdout",
          "output_type": "stream",
          "text": [
            "Epoch: 3, Train Loss: 0.3950, Val Loss: 0.3714\n"
          ]
        },
        {
          "name": "stderr",
          "output_type": "stream",
          "text": [
            "T Loss: 0.3866, count: 4: 100%|██████████| 2500/2500 [01:05<00:00, 38.05it/s]\n",
            "V Loss: 0.3637, count: 4: 100%|██████████| 625/625 [00:14<00:00, 42.06it/s]\n"
          ]
        },
        {
          "name": "stdout",
          "output_type": "stream",
          "text": [
            "Epoch: 4, Train Loss: 0.3866, Val Loss: 0.3637\n"
          ]
        },
        {
          "name": "stderr",
          "output_type": "stream",
          "text": [
            "T Loss: 0.3810, count: 5: 100%|██████████| 2500/2500 [01:06<00:00, 37.39it/s]\n",
            "V Loss: 0.3655, count: 5: 100%|██████████| 625/625 [00:14<00:00, 43.14it/s]\n"
          ]
        },
        {
          "name": "stdout",
          "output_type": "stream",
          "text": [
            "Epoch: 5, Train Loss: 0.3810, Val Loss: 0.3655\n"
          ]
        },
        {
          "name": "stderr",
          "output_type": "stream",
          "text": [
            "T Loss: 0.3753, count: 6: 100%|██████████| 2500/2500 [01:05<00:00, 38.03it/s]\n",
            "V Loss: 0.3509, count: 6: 100%|██████████| 625/625 [00:14<00:00, 42.91it/s]\n"
          ]
        },
        {
          "name": "stdout",
          "output_type": "stream",
          "text": [
            "Epoch: 6, Train Loss: 0.3753, Val Loss: 0.3509\n"
          ]
        },
        {
          "name": "stderr",
          "output_type": "stream",
          "text": [
            "T Loss: 0.3693, count: 7: 100%|██████████| 2500/2500 [01:06<00:00, 37.84it/s]\n",
            "V Loss: 0.3489, count: 7: 100%|██████████| 625/625 [00:14<00:00, 42.48it/s]\n"
          ]
        },
        {
          "name": "stdout",
          "output_type": "stream",
          "text": [
            "Epoch: 7, Train Loss: 0.3693, Val Loss: 0.3489\n"
          ]
        },
        {
          "name": "stderr",
          "output_type": "stream",
          "text": [
            "T Loss: 0.3653, count: 8: 100%|██████████| 2500/2500 [01:05<00:00, 37.96it/s]\n",
            "V Loss: 0.3556, count: 8: 100%|██████████| 625/625 [00:14<00:00, 42.44it/s]\n"
          ]
        },
        {
          "name": "stdout",
          "output_type": "stream",
          "text": [
            "Epoch: 8, Train Loss: 0.3653, Val Loss: 0.3556\n"
          ]
        },
        {
          "name": "stderr",
          "output_type": "stream",
          "text": [
            "T Loss: 0.3632, count: 9: 100%|██████████| 2500/2500 [01:05<00:00, 37.93it/s]\n",
            "V Loss: 0.3507, count: 9: 100%|██████████| 625/625 [00:14<00:00, 42.82it/s]\n"
          ]
        },
        {
          "name": "stdout",
          "output_type": "stream",
          "text": [
            "Epoch: 9, Train Loss: 0.3632, Val Loss: 0.3507\n"
          ]
        },
        {
          "name": "stderr",
          "output_type": "stream",
          "text": [
            "T Loss: 0.3621, count: 10: 100%|██████████| 2500/2500 [01:05<00:00, 38.19it/s]\n",
            "V Loss: 0.3367, count: 10: 100%|██████████| 625/625 [00:14<00:00, 42.49it/s]\n"
          ]
        },
        {
          "name": "stdout",
          "output_type": "stream",
          "text": [
            "Epoch: 10, Train Loss: 0.3621, Val Loss: 0.3367\n"
          ]
        },
        {
          "name": "stderr",
          "output_type": "stream",
          "text": [
            "T Loss: 0.3570, count: 11: 100%|██████████| 2500/2500 [01:07<00:00, 37.20it/s]\n",
            "V Loss: 0.3321, count: 11: 100%|██████████| 625/625 [00:14<00:00, 42.39it/s]\n"
          ]
        },
        {
          "name": "stdout",
          "output_type": "stream",
          "text": [
            "Epoch: 11, Train Loss: 0.3570, Val Loss: 0.3321\n"
          ]
        },
        {
          "name": "stderr",
          "output_type": "stream",
          "text": [
            "T Loss: 0.3573, count: 12: 100%|██████████| 2500/2500 [01:06<00:00, 37.83it/s]\n",
            "V Loss: 0.3445, count: 12: 100%|██████████| 625/625 [00:14<00:00, 42.88it/s]\n"
          ]
        },
        {
          "name": "stdout",
          "output_type": "stream",
          "text": [
            "Epoch: 12, Train Loss: 0.3573, Val Loss: 0.3445\n"
          ]
        },
        {
          "name": "stderr",
          "output_type": "stream",
          "text": [
            "T Loss: 0.3533, count: 13: 100%|██████████| 2500/2500 [01:05<00:00, 37.98it/s]\n",
            "V Loss: 0.3355, count: 13: 100%|██████████| 625/625 [00:14<00:00, 41.90it/s]\n"
          ]
        },
        {
          "name": "stdout",
          "output_type": "stream",
          "text": [
            "Epoch: 13, Train Loss: 0.3533, Val Loss: 0.3355\n"
          ]
        },
        {
          "name": "stderr",
          "output_type": "stream",
          "text": [
            "T Loss: 0.3521, count: 14: 100%|██████████| 2500/2500 [01:06<00:00, 37.72it/s]\n",
            "V Loss: 0.3392, count: 14: 100%|██████████| 625/625 [00:14<00:00, 42.63it/s]\n"
          ]
        },
        {
          "name": "stdout",
          "output_type": "stream",
          "text": [
            "Epoch: 14, Train Loss: 0.3521, Val Loss: 0.3392\n",
            "Test Loss: 0.3422\n",
            "              precision    recall  f1-score   support\n",
            "\n",
            "           0       0.89      0.88      0.89      1900\n",
            "           1       0.94      0.95      0.95      1900\n",
            "           2       0.82      0.85      0.83      1900\n",
            "           3       0.85      0.82      0.84      1900\n",
            "\n",
            "    accuracy                           0.87      7600\n",
            "   macro avg       0.87      0.87      0.87      7600\n",
            "weighted avg       0.87      0.87      0.87      7600\n",
            "\n",
            "None\n"
          ]
        },
        {
          "data": {
            "image/png": "[encoded data removed]",
            "text/plain": [
              "<Figure size 640x480 with 2 Axes>"
            ]
          },
          "metadata": {},
          "output_type": "display_data"
        },
        {
          "name": "stdout",
          "output_type": "stream",
          "text": [
            "-------------------------------------------------------\n",
            "(59352, 100)\n"
          ]
        },
        {
          "name": "stderr",
          "output_type": "stream",
          "text": [
            "T Loss: 0.4302, count: 1: 100%|██████████| 2500/2500 [01:06<00:00, 37.88it/s]\n",
            "V Loss: 0.3548, count: 1: 100%|██████████| 625/625 [00:14<00:00, 41.81it/s]\n"
          ]
        },
        {
          "name": "stdout",
          "output_type": "stream",
          "text": [
            "Epoch: 1, Train Loss: 0.4302, Val Loss: 0.3548\n"
          ]
        },
        {
          "name": "stderr",
          "output_type": "stream",
          "text": [
            "T Loss: 0.3495, count: 2: 100%|██████████| 2500/2500 [01:06<00:00, 37.42it/s]\n",
            "V Loss: 0.3366, count: 2: 100%|██████████| 625/625 [00:14<00:00, 41.81it/s]\n"
          ]
        },
        {
          "name": "stdout",
          "output_type": "stream",
          "text": [
            "Epoch: 2, Train Loss: 0.3495, Val Loss: 0.3366\n"
          ]
        },
        {
          "name": "stderr",
          "output_type": "stream",
          "text": [
            "T Loss: 0.3331, count: 3: 100%|██████████| 2500/2500 [01:07<00:00, 37.06it/s]\n",
            "V Loss: 0.3502, count: 3: 100%|██████████| 625/625 [00:15<00:00, 39.48it/s]\n"
          ]
        },
        {
          "name": "stdout",
          "output_type": "stream",
          "text": [
            "Epoch: 3, Train Loss: 0.3331, Val Loss: 0.3502\n"
          ]
        },
        {
          "name": "stderr",
          "output_type": "stream",
          "text": [
            "T Loss: 0.3251, count: 4: 100%|██████████| 2500/2500 [01:05<00:00, 38.23it/s]\n",
            "V Loss: 0.3314, count: 4: 100%|██████████| 625/625 [00:14<00:00, 42.47it/s]\n"
          ]
        },
        {
          "name": "stdout",
          "output_type": "stream",
          "text": [
            "Epoch: 4, Train Loss: 0.3251, Val Loss: 0.3314\n"
          ]
        },
        {
          "name": "stderr",
          "output_type": "stream",
          "text": [
            "T Loss: 0.3178, count: 5: 100%|██████████| 2500/2500 [01:05<00:00, 38.02it/s]\n",
            "V Loss: 0.3254, count: 5: 100%|██████████| 625/625 [00:14<00:00, 42.30it/s]\n"
          ]
        },
        {
          "name": "stdout",
          "output_type": "stream",
          "text": [
            "Epoch: 5, Train Loss: 0.3178, Val Loss: 0.3254\n"
          ]
        },
        {
          "name": "stderr",
          "output_type": "stream",
          "text": [
            "T Loss: 0.3128, count: 6: 100%|██████████| 2500/2500 [01:05<00:00, 38.04it/s]\n",
            "V Loss: 0.3241, count: 6: 100%|██████████| 625/625 [00:14<00:00, 42.04it/s]\n"
          ]
        },
        {
          "name": "stdout",
          "output_type": "stream",
          "text": [
            "Epoch: 6, Train Loss: 0.3128, Val Loss: 0.3241\n"
          ]
        },
        {
          "name": "stderr",
          "output_type": "stream",
          "text": [
            "T Loss: 0.3079, count: 7: 100%|██████████| 2500/2500 [01:05<00:00, 37.95it/s]\n",
            "V Loss: 0.3178, count: 7: 100%|██████████| 625/625 [00:14<00:00, 42.56it/s]\n"
          ]
        },
        {
          "name": "stdout",
          "output_type": "stream",
          "text": [
            "Epoch: 7, Train Loss: 0.3079, Val Loss: 0.3178\n"
          ]
        },
        {
          "name": "stderr",
          "output_type": "stream",
          "text": [
            "T Loss: 0.3039, count: 8: 100%|██████████| 2500/2500 [01:06<00:00, 37.82it/s]\n",
            "V Loss: 0.3157, count: 8: 100%|██████████| 625/625 [00:14<00:00, 42.41it/s]\n"
          ]
        },
        {
          "name": "stdout",
          "output_type": "stream",
          "text": [
            "Epoch: 8, Train Loss: 0.3039, Val Loss: 0.3157\n"
          ]
        },
        {
          "name": "stderr",
          "output_type": "stream",
          "text": [
            "T Loss: 0.3007, count: 9: 100%|██████████| 2500/2500 [01:05<00:00, 38.08it/s]\n",
            "V Loss: 0.3188, count: 9: 100%|██████████| 625/625 [00:14<00:00, 42.05it/s]\n"
          ]
        },
        {
          "name": "stdout",
          "output_type": "stream",
          "text": [
            "Epoch: 9, Train Loss: 0.3007, Val Loss: 0.3188\n"
          ]
        },
        {
          "name": "stderr",
          "output_type": "stream",
          "text": [
            "T Loss: 0.2976, count: 10: 100%|██████████| 2500/2500 [01:07<00:00, 37.08it/s]\n",
            "V Loss: 0.3220, count: 10: 100%|██████████| 625/625 [00:14<00:00, 42.80it/s]\n"
          ]
        },
        {
          "name": "stdout",
          "output_type": "stream",
          "text": [
            "Epoch: 10, Train Loss: 0.2976, Val Loss: 0.3220\n"
          ]
        },
        {
          "name": "stderr",
          "output_type": "stream",
          "text": [
            "T Loss: 0.2934, count: 11: 100%|██████████| 2500/2500 [01:05<00:00, 38.12it/s]\n",
            "V Loss: 0.3129, count: 11: 100%|██████████| 625/625 [00:15<00:00, 41.50it/s]\n"
          ]
        },
        {
          "name": "stdout",
          "output_type": "stream",
          "text": [
            "Epoch: 11, Train Loss: 0.2934, Val Loss: 0.3129\n"
          ]
        },
        {
          "name": "stderr",
          "output_type": "stream",
          "text": [
            "T Loss: 0.2908, count: 12: 100%|██████████| 2500/2500 [01:06<00:00, 37.76it/s]\n",
            "V Loss: 0.3174, count: 12: 100%|██████████| 625/625 [00:14<00:00, 42.21it/s]\n"
          ]
        },
        {
          "name": "stdout",
          "output_type": "stream",
          "text": [
            "Epoch: 12, Train Loss: 0.2908, Val Loss: 0.3174\n"
          ]
        },
        {
          "name": "stderr",
          "output_type": "stream",
          "text": [
            "T Loss: 0.2876, count: 13: 100%|██████████| 2500/2500 [01:06<00:00, 37.70it/s]\n",
            "V Loss: 0.3207, count: 13: 100%|██████████| 625/625 [00:14<00:00, 42.12it/s]\n"
          ]
        },
        {
          "name": "stdout",
          "output_type": "stream",
          "text": [
            "Epoch: 13, Train Loss: 0.2876, Val Loss: 0.3207\n"
          ]
        },
        {
          "name": "stderr",
          "output_type": "stream",
          "text": [
            "T Loss: 0.2861, count: 14: 100%|██████████| 2500/2500 [01:07<00:00, 37.28it/s]\n",
            "V Loss: 0.3177, count: 14: 100%|██████████| 625/625 [00:15<00:00, 40.84it/s]\n"
          ]
        },
        {
          "name": "stdout",
          "output_type": "stream",
          "text": [
            "Epoch: 14, Train Loss: 0.2861, Val Loss: 0.3177\n",
            "Test Loss: 0.3285\n",
            "              precision    recall  f1-score   support\n",
            "\n",
            "           0       0.89      0.88      0.89      1900\n",
            "           1       0.94      0.97      0.96      1900\n",
            "           2       0.85      0.83      0.84      1900\n",
            "           3       0.85      0.85      0.85      1900\n",
            "\n",
            "    accuracy                           0.88      7600\n",
            "   macro avg       0.88      0.88      0.88      7600\n",
            "weighted avg       0.88      0.88      0.88      7600\n",
            "\n",
            "tensor([[0., 0., 1.]], device='cuda:0')\n"
          ]
        },
        {
          "data": {
            "image/png": "[encoded data removed]",
            "text/plain": [
              "<Figure size 640x480 with 2 Axes>"
            ]
          },
          "metadata": {},
          "output_type": "display_data"
        },
        {
          "name": "stdout",
          "output_type": "stream",
          "text": [
            "-------------------------------------------------------\n",
            "(59352, 100)\n"
          ]
        },
        {
          "name": "stderr",
          "output_type": "stream",
          "text": [
            "T Loss: 0.5078, count: 1: 100%|██████████| 2500/2500 [01:08<00:00, 36.45it/s]\n",
            "V Loss: 0.5271, count: 1: 100%|██████████| 625/625 [00:15<00:00, 41.34it/s]\n"
          ]
        },
        {
          "name": "stdout",
          "output_type": "stream",
          "text": [
            "Epoch: 1, Train Loss: 0.5078, Val Loss: 0.5271\n"
          ]
        },
        {
          "name": "stderr",
          "output_type": "stream",
          "text": [
            "T Loss: 0.4309, count: 2: 100%|██████████| 2500/2500 [01:09<00:00, 36.18it/s]\n",
            "V Loss: 0.4457, count: 2: 100%|██████████| 625/625 [00:15<00:00, 40.14it/s]\n"
          ]
        },
        {
          "name": "stdout",
          "output_type": "stream",
          "text": [
            "Epoch: 2, Train Loss: 0.4309, Val Loss: 0.4457\n"
          ]
        },
        {
          "name": "stderr",
          "output_type": "stream",
          "text": [
            "T Loss: 0.4155, count: 3: 100%|██████████| 2500/2500 [01:07<00:00, 37.14it/s]\n",
            "V Loss: 0.4198, count: 3: 100%|██████████| 625/625 [00:14<00:00, 42.10it/s]\n"
          ]
        },
        {
          "name": "stdout",
          "output_type": "stream",
          "text": [
            "Epoch: 3, Train Loss: 0.4155, Val Loss: 0.4198\n"
          ]
        },
        {
          "name": "stderr",
          "output_type": "stream",
          "text": [
            "T Loss: 0.4064, count: 4: 100%|██████████| 2500/2500 [01:06<00:00, 37.65it/s]\n",
            "V Loss: 0.4484, count: 4: 100%|██████████| 625/625 [00:14<00:00, 42.28it/s]\n"
          ]
        },
        {
          "name": "stdout",
          "output_type": "stream",
          "text": [
            "Epoch: 4, Train Loss: 0.4064, Val Loss: 0.4484\n"
          ]
        },
        {
          "name": "stderr",
          "output_type": "stream",
          "text": [
            "T Loss: 0.4007, count: 5: 100%|██████████| 2500/2500 [01:05<00:00, 38.14it/s]\n",
            "V Loss: 0.4129, count: 5: 100%|██████████| 625/625 [00:14<00:00, 42.36it/s]\n"
          ]
        },
        {
          "name": "stdout",
          "output_type": "stream",
          "text": [
            "Epoch: 5, Train Loss: 0.4007, Val Loss: 0.4129\n"
          ]
        },
        {
          "name": "stderr",
          "output_type": "stream",
          "text": [
            "T Loss: 0.3943, count: 6: 100%|██████████| 2500/2500 [01:07<00:00, 37.04it/s]\n",
            "V Loss: 0.3973, count: 6: 100%|██████████| 625/625 [00:15<00:00, 41.09it/s]\n"
          ]
        },
        {
          "name": "stdout",
          "output_type": "stream",
          "text": [
            "Epoch: 6, Train Loss: 0.3943, Val Loss: 0.3973\n"
          ]
        },
        {
          "name": "stderr",
          "output_type": "stream",
          "text": [
            "T Loss: 0.3899, count: 7: 100%|██████████| 2500/2500 [01:06<00:00, 37.84it/s]\n",
            "V Loss: 0.3825, count: 7: 100%|██████████| 625/625 [00:14<00:00, 41.77it/s]\n"
          ]
        },
        {
          "name": "stdout",
          "output_type": "stream",
          "text": [
            "Epoch: 7, Train Loss: 0.3899, Val Loss: 0.3825\n"
          ]
        },
        {
          "name": "stderr",
          "output_type": "stream",
          "text": [
            "T Loss: 0.3877, count: 8: 100%|██████████| 2500/2500 [01:07<00:00, 37.04it/s]\n",
            "V Loss: 0.4459, count: 8: 100%|██████████| 625/625 [00:14<00:00, 42.16it/s]\n"
          ]
        },
        {
          "name": "stdout",
          "output_type": "stream",
          "text": [
            "Epoch: 8, Train Loss: 0.3877, Val Loss: 0.4459\n"
          ]
        },
        {
          "name": "stderr",
          "output_type": "stream",
          "text": [
            "T Loss: 0.3841, count: 9: 100%|██████████| 2500/2500 [01:06<00:00, 37.67it/s]\n",
            "V Loss: 0.3831, count: 9: 100%|██████████| 625/625 [00:14<00:00, 42.03it/s]\n"
          ]
        },
        {
          "name": "stdout",
          "output_type": "stream",
          "text": [
            "Epoch: 9, Train Loss: 0.3841, Val Loss: 0.3831\n"
          ]
        },
        {
          "name": "stderr",
          "output_type": "stream",
          "text": [
            "T Loss: 0.3811, count: 10: 100%|██████████| 2500/2500 [01:06<00:00, 37.43it/s]\n",
            "V Loss: 0.3846, count: 10: 100%|██████████| 625/625 [00:15<00:00, 40.74it/s]\n"
          ]
        },
        {
          "name": "stdout",
          "output_type": "stream",
          "text": [
            "Epoch: 10, Train Loss: 0.3811, Val Loss: 0.3846\n",
            "Test Loss: 0.4006\n",
            "              precision    recall  f1-score   support\n",
            "\n",
            "           0       0.87      0.86      0.87      1900\n",
            "           1       0.94      0.94      0.94      1900\n",
            "           2       0.80      0.83      0.81      1900\n",
            "           3       0.82      0.80      0.81      1900\n",
            "\n",
            "    accuracy                           0.86      7600\n",
            "   macro avg       0.86      0.86      0.86      7600\n",
            "weighted avg       0.86      0.86      0.86      7600\n",
            "\n",
            "tensor([[1., 2., 3.]], device='cuda:0')\n"
          ]
        },
        {
          "data": {
            "image/png": "[encoded data removed]",
            "text/plain": [
              "<Figure size 640x480 with 2 Axes>"
            ]
          },
          "metadata": {},
          "output_type": "display_data"
        },
        {
          "name": "stdout",
          "output_type": "stream",
          "text": [
            "-------------------------------------------------------\n",
            "(59352, 100)\n"
          ]
        },
        {
          "name": "stderr",
          "output_type": "stream",
          "text": [
            "T Loss: 0.5105, count: 1: 100%|██████████| 2500/2500 [01:07<00:00, 37.29it/s]\n",
            "V Loss: 0.4506, count: 1: 100%|██████████| 625/625 [00:15<00:00, 40.81it/s]\n"
          ]
        },
        {
          "name": "stdout",
          "output_type": "stream",
          "text": [
            "Epoch: 1, Train Loss: 0.5105, Val Loss: 0.4506\n"
          ]
        },
        {
          "name": "stderr",
          "output_type": "stream",
          "text": [
            "T Loss: 0.4351, count: 2: 100%|██████████| 2500/2500 [01:07<00:00, 36.86it/s]\n",
            "V Loss: 0.4112, count: 2: 100%|██████████| 625/625 [00:15<00:00, 41.26it/s]\n"
          ]
        },
        {
          "name": "stdout",
          "output_type": "stream",
          "text": [
            "Epoch: 2, Train Loss: 0.4351, Val Loss: 0.4112\n"
          ]
        },
        {
          "name": "stderr",
          "output_type": "stream",
          "text": [
            "T Loss: 0.4205, count: 3: 100%|██████████| 2500/2500 [01:07<00:00, 36.88it/s]\n",
            "V Loss: 0.4104, count: 3: 100%|██████████| 625/625 [00:15<00:00, 41.30it/s]\n"
          ]
        },
        {
          "name": "stdout",
          "output_type": "stream",
          "text": [
            "Epoch: 3, Train Loss: 0.4205, Val Loss: 0.4104\n"
          ]
        },
        {
          "name": "stderr",
          "output_type": "stream",
          "text": [
            "T Loss: 0.4086, count: 4: 100%|██████████| 2500/2500 [01:08<00:00, 36.72it/s]\n",
            "V Loss: 0.4018, count: 4: 100%|██████████| 625/625 [00:15<00:00, 40.92it/s]\n"
          ]
        },
        {
          "name": "stdout",
          "output_type": "stream",
          "text": [
            "Epoch: 4, Train Loss: 0.4086, Val Loss: 0.4018\n"
          ]
        },
        {
          "name": "stderr",
          "output_type": "stream",
          "text": [
            "T Loss: 0.4043, count: 5: 100%|██████████| 2500/2500 [01:06<00:00, 37.74it/s]\n",
            "V Loss: 0.4426, count: 5: 100%|██████████| 625/625 [00:15<00:00, 41.19it/s]\n"
          ]
        },
        {
          "name": "stdout",
          "output_type": "stream",
          "text": [
            "Epoch: 5, Train Loss: 0.4043, Val Loss: 0.4426\n"
          ]
        },
        {
          "name": "stderr",
          "output_type": "stream",
          "text": [
            "T Loss: 0.3997, count: 6: 100%|██████████| 2500/2500 [01:06<00:00, 37.65it/s]\n",
            "V Loss: 0.3871, count: 6: 100%|██████████| 625/625 [00:15<00:00, 41.29it/s]\n"
          ]
        },
        {
          "name": "stdout",
          "output_type": "stream",
          "text": [
            "Epoch: 6, Train Loss: 0.3997, Val Loss: 0.3871\n"
          ]
        },
        {
          "name": "stderr",
          "output_type": "stream",
          "text": [
            "T Loss: 0.3943, count: 7: 100%|██████████| 2500/2500 [01:06<00:00, 37.72it/s]\n",
            "V Loss: 0.3929, count: 7: 100%|██████████| 625/625 [00:14<00:00, 42.16it/s]\n"
          ]
        },
        {
          "name": "stdout",
          "output_type": "stream",
          "text": [
            "Epoch: 7, Train Loss: 0.3943, Val Loss: 0.3929\n"
          ]
        },
        {
          "name": "stderr",
          "output_type": "stream",
          "text": [
            "T Loss: 0.3913, count: 8: 100%|██████████| 2500/2500 [01:06<00:00, 37.70it/s]\n",
            "V Loss: 0.4186, count: 8: 100%|██████████| 625/625 [00:15<00:00, 41.43it/s]\n"
          ]
        },
        {
          "name": "stdout",
          "output_type": "stream",
          "text": [
            "Epoch: 8, Train Loss: 0.3913, Val Loss: 0.4186\n"
          ]
        },
        {
          "name": "stderr",
          "output_type": "stream",
          "text": [
            "T Loss: 0.3894, count: 9: 100%|██████████| 2500/2500 [01:06<00:00, 37.76it/s]\n",
            "V Loss: 0.3864, count: 9: 100%|██████████| 625/625 [00:14<00:00, 42.01it/s]\n"
          ]
        },
        {
          "name": "stdout",
          "output_type": "stream",
          "text": [
            "Epoch: 9, Train Loss: 0.3894, Val Loss: 0.3864\n"
          ]
        },
        {
          "name": "stderr",
          "output_type": "stream",
          "text": [
            "T Loss: 0.3873, count: 10: 100%|██████████| 2500/2500 [01:06<00:00, 37.73it/s]\n",
            "V Loss: 0.3907, count: 10: 100%|██████████| 625/625 [00:14<00:00, 41.90it/s]\n"
          ]
        },
        {
          "name": "stdout",
          "output_type": "stream",
          "text": [
            "Epoch: 10, Train Loss: 0.3873, Val Loss: 0.3907\n"
          ]
        },
        {
          "name": "stderr",
          "output_type": "stream",
          "text": [
            "T Loss: 0.3822, count: 11: 100%|██████████| 2500/2500 [01:07<00:00, 37.06it/s]\n",
            "V Loss: 0.3813, count: 11: 100%|██████████| 625/625 [00:15<00:00, 41.59it/s]\n"
          ]
        },
        {
          "name": "stdout",
          "output_type": "stream",
          "text": [
            "Epoch: 11, Train Loss: 0.3822, Val Loss: 0.3813\n"
          ]
        },
        {
          "name": "stderr",
          "output_type": "stream",
          "text": [
            "T Loss: 0.3801, count: 12: 100%|██████████| 2500/2500 [01:06<00:00, 37.52it/s]\n",
            "V Loss: 0.4142, count: 12: 100%|██████████| 625/625 [00:14<00:00, 41.93it/s]\n"
          ]
        },
        {
          "name": "stdout",
          "output_type": "stream",
          "text": [
            "Epoch: 12, Train Loss: 0.3801, Val Loss: 0.4142\n"
          ]
        },
        {
          "name": "stderr",
          "output_type": "stream",
          "text": [
            "T Loss: 0.3784, count: 13: 100%|██████████| 2500/2500 [01:07<00:00, 37.29it/s]\n",
            "V Loss: 0.3854, count: 13: 100%|██████████| 625/625 [00:15<00:00, 40.98it/s]\n"
          ]
        },
        {
          "name": "stdout",
          "output_type": "stream",
          "text": [
            "Epoch: 13, Train Loss: 0.3784, Val Loss: 0.3854\n"
          ]
        },
        {
          "name": "stderr",
          "output_type": "stream",
          "text": [
            "T Loss: 0.3757, count: 14: 100%|██████████| 2500/2500 [01:06<00:00, 37.43it/s]\n",
            "V Loss: 0.3807, count: 14: 100%|██████████| 625/625 [00:14<00:00, 42.04it/s]\n"
          ]
        },
        {
          "name": "stdout",
          "output_type": "stream",
          "text": [
            "Epoch: 14, Train Loss: 0.3757, Val Loss: 0.3807\n"
          ]
        },
        {
          "name": "stderr",
          "output_type": "stream",
          "text": [
            "T Loss: 0.3750, count: 15: 100%|██████████| 2500/2500 [01:07<00:00, 37.27it/s]\n",
            "V Loss: 0.4016, count: 15: 100%|██████████| 625/625 [00:14<00:00, 41.72it/s]\n"
          ]
        },
        {
          "name": "stdout",
          "output_type": "stream",
          "text": [
            "Epoch: 15, Train Loss: 0.3750, Val Loss: 0.4016\n"
          ]
        },
        {
          "name": "stderr",
          "output_type": "stream",
          "text": [
            "T Loss: 0.3747, count: 16: 100%|██████████| 2500/2500 [01:06<00:00, 37.67it/s]\n",
            "V Loss: 0.3846, count: 16: 100%|██████████| 625/625 [00:15<00:00, 41.63it/s]\n"
          ]
        },
        {
          "name": "stdout",
          "output_type": "stream",
          "text": [
            "Epoch: 16, Train Loss: 0.3747, Val Loss: 0.3846\n"
          ]
        },
        {
          "name": "stderr",
          "output_type": "stream",
          "text": [
            "T Loss: 0.3721, count: 17: 100%|██████████| 2500/2500 [01:08<00:00, 36.54it/s]\n",
            "V Loss: 0.3841, count: 17: 100%|██████████| 625/625 [00:14<00:00, 41.73it/s]\n"
          ]
        },
        {
          "name": "stdout",
          "output_type": "stream",
          "text": [
            "Epoch: 17, Train Loss: 0.3721, Val Loss: 0.3841\n",
            "Test Loss: 0.3871\n",
            "              precision    recall  f1-score   support\n",
            "\n",
            "           0       0.86      0.87      0.87      1900\n",
            "           1       0.91      0.96      0.93      1900\n",
            "           2       0.84      0.78      0.81      1900\n",
            "           3       0.81      0.83      0.82      1900\n",
            "\n",
            "    accuracy                           0.86      7600\n",
            "   macro avg       0.86      0.86      0.86      7600\n",
            "weighted avg       0.86      0.86      0.86      7600\n",
            "\n",
            "tensor([[1., 1., 1.]], device='cuda:0')\n"
          ]
        },
        {
          "data": {
            "image/png": "[encoded data removed]",
            "text/plain": [
              "<Figure size 640x480 with 2 Axes>"
            ]
          },
          "metadata": {},
          "output_type": "display_data"
        },
        {
          "name": "stdout",
          "output_type": "stream",
          "text": [
            "-------------------------------------------------------\n",
            "(59352, 100)\n"
          ]
        },
        {
          "name": "stderr",
          "output_type": "stream",
          "text": [
            "T Loss: 0.5002, count: 1: 100%|██████████| 2500/2500 [01:07<00:00, 37.16it/s]\n",
            "V Loss: 0.4465, count: 1: 100%|██████████| 625/625 [00:15<00:00, 41.30it/s]\n"
          ]
        },
        {
          "name": "stdout",
          "output_type": "stream",
          "text": [
            "Epoch: 1, Train Loss: 0.5002, Val Loss: 0.4465\n"
          ]
        },
        {
          "name": "stderr",
          "output_type": "stream",
          "text": [
            "T Loss: 0.4397, count: 2: 100%|██████████| 2500/2500 [01:06<00:00, 37.72it/s]\n",
            "V Loss: 0.4294, count: 2: 100%|██████████| 625/625 [00:15<00:00, 41.29it/s]\n"
          ]
        },
        {
          "name": "stdout",
          "output_type": "stream",
          "text": [
            "Epoch: 2, Train Loss: 0.4397, Val Loss: 0.4294\n"
          ]
        },
        {
          "name": "stderr",
          "output_type": "stream",
          "text": [
            "T Loss: 0.4243, count: 3: 100%|██████████| 2500/2500 [01:07<00:00, 37.15it/s]\n",
            "V Loss: 0.4301, count: 3: 100%|██████████| 625/625 [00:15<00:00, 41.37it/s]\n"
          ]
        },
        {
          "name": "stdout",
          "output_type": "stream",
          "text": [
            "Epoch: 3, Train Loss: 0.4243, Val Loss: 0.4301\n"
          ]
        },
        {
          "name": "stderr",
          "output_type": "stream",
          "text": [
            "T Loss: 0.4140, count: 4: 100%|██████████| 2500/2500 [01:06<00:00, 37.48it/s]\n",
            "V Loss: 0.4288, count: 4: 100%|██████████| 625/625 [00:15<00:00, 41.15it/s]\n"
          ]
        },
        {
          "name": "stdout",
          "output_type": "stream",
          "text": [
            "Epoch: 4, Train Loss: 0.4140, Val Loss: 0.4288\n"
          ]
        },
        {
          "name": "stderr",
          "output_type": "stream",
          "text": [
            "T Loss: 0.4072, count: 5: 100%|██████████| 2500/2500 [01:07<00:00, 36.94it/s]\n",
            "V Loss: 0.4030, count: 5: 100%|██████████| 625/625 [00:15<00:00, 41.34it/s]\n"
          ]
        },
        {
          "name": "stdout",
          "output_type": "stream",
          "text": [
            "Epoch: 5, Train Loss: 0.4072, Val Loss: 0.4030\n"
          ]
        },
        {
          "name": "stderr",
          "output_type": "stream",
          "text": [
            "T Loss: 0.4056, count: 6: 100%|██████████| 2500/2500 [01:06<00:00, 37.46it/s]\n",
            "V Loss: 0.4099, count: 6: 100%|██████████| 625/625 [00:16<00:00, 38.38it/s]\n"
          ]
        },
        {
          "name": "stdout",
          "output_type": "stream",
          "text": [
            "Epoch: 6, Train Loss: 0.4056, Val Loss: 0.4099\n"
          ]
        },
        {
          "name": "stderr",
          "output_type": "stream",
          "text": [
            "T Loss: 0.3998, count: 7: 100%|██████████| 2500/2500 [01:08<00:00, 36.46it/s]\n",
            "V Loss: 0.4083, count: 7: 100%|██████████| 625/625 [00:15<00:00, 41.34it/s]\n"
          ]
        },
        {
          "name": "stdout",
          "output_type": "stream",
          "text": [
            "Epoch: 7, Train Loss: 0.3998, Val Loss: 0.4083\n"
          ]
        },
        {
          "name": "stderr",
          "output_type": "stream",
          "text": [
            "T Loss: 0.3963, count: 8: 100%|██████████| 2500/2500 [01:07<00:00, 37.09it/s]\n",
            "V Loss: 0.4051, count: 8: 100%|██████████| 625/625 [00:15<00:00, 40.46it/s]\n"
          ]
        },
        {
          "name": "stdout",
          "output_type": "stream",
          "text": [
            "Epoch: 8, Train Loss: 0.3963, Val Loss: 0.4051\n",
            "Test Loss: 0.4136\n",
            "              precision    recall  f1-score   support\n",
            "\n",
            "           0       0.90      0.83      0.86      1900\n",
            "           1       0.93      0.94      0.94      1900\n",
            "           2       0.82      0.77      0.80      1900\n",
            "           3       0.77      0.87      0.81      1900\n",
            "\n",
            "    accuracy                           0.85      7600\n",
            "   macro avg       0.85      0.85      0.85      7600\n",
            "weighted avg       0.85      0.85      0.85      7600\n",
            "\n",
            "tensor([[1., 0., 0.]], device='cuda:0')\n"
          ]
        },
        {
          "data": {
            "image/png": "[encoded data removed]",
            "text/plain": [
              "<Figure size 640x480 with 2 Axes>"
            ]
          },
          "metadata": {},
          "output_type": "display_data"
        },
        {
          "name": "stdout",
          "output_type": "stream",
          "text": [
            "-------------------------------------------------------\n"
          ]
        }
      ],
      "source": [
        "delta_values = [None, [0, 0, 1], [1, 2, 3], [1, 1, 1], [1, 0, 0]]\n",
        "\n",
        "# reshape delta values\n",
        "for i in range(len(delta_values)):\n",
        "    if delta_values[i] is not None:\n",
        "        delta_values[i] = np.array(delta_values[i]).reshape(1, -1)\n",
        "        delta_values[i] = torch.FloatTensor(delta_values[i]).cuda()\n",
        "\n",
        "for delta in delta_values:\n",
        "    downstream_model = Downstream_Model(embedding_matrix(word_to_ix, glove_vectors), 100, 2, 4, 0.2)\n",
        "    downstream_model = downstream_model.cuda()\n",
        "    if delta is not None:\n",
        "        downstream_model.delta = nn.Parameter(delta, requires_grad=False)\n",
        "    all_downstream_train_loss, all_downstream_val_loss, downstream_model = train_downstream_classifier('Adam', downstream_model)\n",
        "    test_downstream_classifier(downstream_model)\n",
        "    print(delta)\n",
        "    plt.show()\n",
        "    print('-------------------------------------------------------')\n"
      ]
    },
    {
      "cell_type": "code",
      "execution_count": 29,
      "metadata": {
        "id": "5pOlJKTriyFH"
      },
      "outputs": [],
      "source": [
        "import pickle\n",
        "\n",
        "results_dict = {\n",
        "    'elmo_train_loss': all_emlo_train_loss,\n",
        "    'elmo_val_loss': all_elmo_val_loss,\n",
        "    'downstream_train_loss': all_downstream_train_loss,\n",
        "    'downstream_val_loss': all_downstream_val_loss,\n",
        "}\n",
        "\n",
        "with open('results.pkl', 'wb') as pickle_file:\n",
        "  pickle.dump(results_dict, pickle_file)"
      ]
    },
    {
      "cell_type": "code",
      "execution_count": 30,
      "metadata": {
        "colab": {
          "base_uri": "https://localhost:8080/",
          "height": 180
        },
        "id": "oMJEFWXYy6x9",
        "outputId": "013beb7f-5762-453d-ef9b-00ce6e187637"
      },
      "outputs": [
        {
          "ename": "TypeError",
          "evalue": "ignored",
          "output_type": "error",
          "traceback": [
            "\u001b[0;31m---------------------------------------------------------------------------\u001b[0m",
            "\u001b[0;31mTypeError\u001b[0m                                 Traceback (most recent call last)",
            "\u001b[0;32m<ipython-input-30-f79ffc5357aa>\u001b[0m in \u001b[0;36m<cell line: 1>\u001b[0;34m()\u001b[0m\n\u001b[0;32m----> 1\u001b[0;31m \u001b[0mtest_downstream_classifier\u001b[0m\u001b[0;34m(\u001b[0m\u001b[0;34m)\u001b[0m\u001b[0;34m\u001b[0m\u001b[0;34m\u001b[0m\u001b[0m\n\u001b[0m",
            "\u001b[0;31mTypeError\u001b[0m: test_downstream_classifier() missing 1 required positional argument: 'downstream_model'"
          ]
        }
      ],
      "source": [
        "test_downstream_classifier()"
      ]
    },
    {
      "cell_type": "code",
      "execution_count": 32,
      "metadata": {
        "id": "N99ABxtXy6x-"
      },
      "outputs": [],
      "source": [
        "# get all the lists in the results.pkl file\n",
        "\n",
        "import pickle\n",
        "\n",
        "with open('results.pkl', 'rb') as pickle_file:\n",
        "    results_dict = pickle.load(pickle_file)\n",
        "\n",
        "all_emlo_train_loss = results_dict['elmo_train_loss']\n",
        "all_elmo_val_loss = results_dict['elmo_val_loss']\n",
        "all_downstream_train_loss = results_dict['downstream_train_loss']\n",
        "all_downstream_val_loss = results_dict['downstream_val_loss']\n"
      ]
    },
    {
      "cell_type": "code",
      "execution_count": 33,
      "metadata": {
        "colab": {
          "base_uri": "https://localhost:8080/",
          "height": 905
        },
        "id": "QV8JHXD4y6x-",
        "outputId": "88d1f769-8d01-464d-baac-ad67eefe4baa"
      },
      "outputs": [
        {
          "data": {
            "image/png": "[encoded data removed]",
            "text/plain": [
              "<Figure size 640x480 with 1 Axes>"
            ]
          },
          "metadata": {},
          "output_type": "display_data"
        },
        {
          "data": {
            "image/png": "[encoded data removed]",
            "text/plain": [
              "<Figure size 1200x600 with 1 Axes>"
            ]
          },
          "metadata": {},
          "output_type": "display_data"
        }
      ],
      "source": [
        "import numpy as np\n",
        "def get_graph(train_loss, val_loss):\n",
        "    import seaborn as sns\n",
        "    import matplotlib.pyplot as plt\n",
        "    sns.set()\n",
        "    x = np.arange(1, len(train_loss) + 1)\n",
        "    plt.title('Training/Validation Loss vs Epoch (ELMo Pretraining))')\n",
        "    #increase width of graph\n",
        "    plt.figure(figsize=(12, 6))\n",
        "    plt.plot(x, train_loss, label='Training Loss')\n",
        "    plt.plot(x, val_loss, label='Validation Loss')\n",
        "    plt.xticks(x)\n",
        "    plt.xlabel('Epoch')\n",
        "    plt.ylabel('Cross Entropy Loss')\n",
        "    plt.legend()\n",
        "    plt.show()\n",
        "\n",
        "get_graph(all_downstream_train_loss, all_downstream_val_loss)"
      ]
    },
    {
      "cell_type": "code",
      "execution_count": null,
      "metadata": {
        "id": "bev1NqPvy6x-"
      },
      "outputs": [],
      "source": []
    }
  ],
  "metadata": {
    "accelerator": "GPU",
    "colab": {
      "provenance": []
    },
    "kernelspec": {
      "display_name": "anlp",
      "language": "python",
      "name": "python3"
    },
    "language_info": {
      "codemirror_mode": {
        "name": "ipython",
        "version": 3
      },
      "file_extension": ".py",
      "mimetype": "text/x-python",
      "name": "python",
      "nbconvert_exporter": "python",
      "pygments_lexer": "ipython3",
      "version": "3.11.4"
    }
  },
  "nbformat": 4,
  "nbformat_minor": 0
}
