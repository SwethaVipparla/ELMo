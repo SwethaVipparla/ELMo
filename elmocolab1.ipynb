{
  "cells": [
    {
      "cell_type": "code",
      "execution_count": 1,
      "metadata": {
        "colab": {
          "base_uri": "https://localhost:8080/"
        },
        "id": "U4usVcxsDbeb",
        "outputId": "70d83b4c-9b5c-471c-c290-169c1a116a68"
      },
      "outputs": [
        {
          "data": {
            "text/plain": [
              "True"
            ]
          },
          "execution_count": 1,
          "metadata": {},
          "output_type": "execute_result"
        }
      ],
      "source": [
        "# check if cuda is available\n",
        "import torch\n",
        "torch.cuda.is_available()\n"
      ]
    },
    {
      "cell_type": "code",
      "execution_count": 44,
      "metadata": {
        "colab": {
          "base_uri": "https://localhost:8080/"
        },
        "id": "DVe1pr3KFKvQ",
        "outputId": "949445a6-edf1-437a-f99a-255c801d5f52"
      },
      "outputs": [],
      "source": [
        "import torch\n",
        "import pandas as pd\n",
        "import elmo_dataset as ds\n",
        "import nltk\n",
        "import unicodedata\n",
        "import re"
      ]
    },
    {
      "cell_type": "code",
      "execution_count": 46,
      "metadata": {},
      "outputs": [
        {
          "name": "stderr",
          "output_type": "stream",
          "text": [
            "[nltk_data] Downloading package punkt to /home/swetha/nltk_data...\n",
            "[nltk_data]   Package punkt is already up-to-date!\n",
            "[nltk_data] Downloading package punkt to /home/swetha/nltk_data...\n",
            "[nltk_data]   Package punkt is already up-to-date!\n"
          ]
        }
      ],
      "source": [
        "def preprocess(csv):\n",
        "    df = pd.read_csv(csv)\n",
        "\n",
        "    df = df.dropna()\n",
        "    df = df.reset_index(drop=True)\n",
        "\n",
        "    def normalize_unicode(s):\n",
        "        return unicodedata.normalize('NFD', s)\n",
        "\n",
        "    def preprocess_text(text):\n",
        "        text = normalize_unicode(text)\n",
        "        text = re.sub(r\"(.)(\\1{2,})\", r\"\\1\", text)\n",
        "        text = re.sub(r\"[^a-zA-Z.,!?]+\", \" \", text)\n",
        "        text = text.strip().lower()\n",
        "        return text\n",
        "\n",
        "    nltk.download('punkt')\n",
        "\n",
        "    df['Description'] = df['Description'].apply(preprocess_text)\n",
        "    df['Description'] = df['Description'].apply(nltk.word_tokenize)\n",
        "    \n",
        "    return df\n",
        "\n",
        "train_df = preprocess('train.csv')\n",
        "test_df = preprocess('test.csv')"
      ]
    },
    {
      "cell_type": "code",
      "execution_count": 3,
      "metadata": {
        "id": "rONzBJnkDaZt"
      },
      "outputs": [],
      "source": [
        "PRE_TRAIN_SET = 8000\n",
        "PRE_VAL_SET = 2000\n",
        "DOWNSTREAM_TRAIN_SET = 80000\n",
        "DOWNSTREAM_VAL_SET = 20000"
      ]
    },
    {
      "cell_type": "code",
      "execution_count": 4,
      "metadata": {
        "id": "CeE4PxpCFKvU"
      },
      "outputs": [],
      "source": [
        "train_set = list(train_df['Description'])\n",
        "pre_train_set = train_set[:PRE_TRAIN_SET]\n",
        "pre_val_set = train_set[PRE_TRAIN_SET:PRE_TRAIN_SET+PRE_VAL_SET]"
      ]
    },
    {
      "cell_type": "code",
      "execution_count": 5,
      "metadata": {
        "colab": {
          "base_uri": "https://localhost:8080/"
        },
        "id": "MbuIOGvQFKvU",
        "outputId": "186d6c34-6f84-44d9-f246-59aa8d982cc3"
      },
      "outputs": [
        {
          "name": "stdout",
          "output_type": "stream",
          "text": [
            "59352\n"
          ]
        }
      ],
      "source": [
        "vocab = ds.ELMO_Dataset.create_vocab(train_set)\n",
        "word_to_ix = {word: idx for idx, word in enumerate(vocab)}\n",
        "print(len(word_to_ix))"
      ]
    },
    {
      "cell_type": "code",
      "execution_count": 6,
      "metadata": {
        "id": "LElWE0J5FKvV"
      },
      "outputs": [],
      "source": [
        "from torch.nn.utils.rnn import pad_sequence\n",
        "\n",
        "def collate_fn(batch):\n",
        "    padded_batch = pad_sequence(batch, batch_first=True, padding_value=word_to_ix['<pad>'])\n",
        "    lengths = torch.LongTensor([len(x) for x in batch])\n",
        "\n",
        "    input_tensor = torch.LongTensor(padded_batch[:, :-1])\n",
        "    target_truth = torch.LongTensor(padded_batch[:, 1:])\n",
        "\n",
        "    return input_tensor, target_truth, lengths - 1"
      ]
    },
    {
      "cell_type": "code",
      "execution_count": 7,
      "metadata": {
        "id": "Sh0lM0plFKvV"
      },
      "outputs": [],
      "source": [
        "from torch.utils.data import DataLoader\n",
        "\n",
        "forward_pre_train_dataset = ds.ELMO_Dataset(pre_train_set, word_to_ix, 'Forward')\n",
        "forward_pre_val_dataset = ds.ELMO_Dataset(pre_val_set, word_to_ix, 'Forward')\n",
        "\n",
        "backward_pre_train_dataset = ds.ELMO_Dataset(pre_train_set, word_to_ix, 'Backward')\n",
        "backward_pre_val_dataset = ds.ELMO_Dataset(pre_val_set, word_to_ix, 'Backward')\n",
        "\n",
        "batch_size = 32\n",
        "\n",
        "forward_pre_train_loader = DataLoader(forward_pre_train_dataset, batch_size=batch_size, shuffle=True, collate_fn=collate_fn, pin_memory=True, num_workers=2)\n",
        "forward_pre_val_loader = DataLoader(forward_pre_val_dataset, batch_size=batch_size, shuffle=True, collate_fn=collate_fn, pin_memory=True, num_workers=2)\n",
        "\n",
        "backward_pre_train_loader = DataLoader(backward_pre_train_dataset, batch_size=batch_size, shuffle=True, collate_fn=collate_fn, pin_memory=True, num_workers=2)\n",
        "backward_pre_val_loader = DataLoader(backward_pre_val_dataset, batch_size=batch_size, shuffle=True, collate_fn=collate_fn, pin_memory=True, num_workers=2)"
      ]
    },
    {
      "cell_type": "code",
      "execution_count": 8,
      "metadata": {
        "colab": {
          "base_uri": "https://localhost:8080/"
        },
        "id": "xudp-rpZFKvV",
        "outputId": "a3134790-9931-4191-ff59-d79bcea9fa6b"
      },
      "outputs": [],
      "source": [
        "import gensim\n",
        "import gensim.downloader\n",
        "\n",
        "glove_vectors = gensim.downloader.load('glove-wiki-gigaword-100')"
      ]
    },
    {
      "cell_type": "code",
      "execution_count": 9,
      "metadata": {
        "id": "T2rWFfleFKvW"
      },
      "outputs": [],
      "source": [
        "import numpy as np\n",
        "\n",
        "def embedding_matrix(word_to_ix, glove_vectors):\n",
        "    embedding_dim = glove_vectors.vector_size\n",
        "    embedding_matrix = np.zeros((len(word_to_ix), embedding_dim))\n",
        "\n",
        "    average_vector = np.mean(glove_vectors.vectors, axis=0)\n",
        "\n",
        "    special_token_embeddings = {\n",
        "        '<pad>': np.zeros(embedding_dim),\n",
        "        '<unk>': average_vector,\n",
        "        '<sos>': np.random.randn(embedding_dim),\n",
        "        '<eos>': np.random.randn(embedding_dim)\n",
        "    }\n",
        "\n",
        "    for word, i in word_to_ix.items():\n",
        "        if word in glove_vectors:\n",
        "            embedding_vector = glove_vectors[word]\n",
        "        else:\n",
        "            embedding_vector = special_token_embeddings.get(word, average_vector)\n",
        "\n",
        "        embedding_matrix[i] = embedding_vector\n",
        "\n",
        "    print(embedding_matrix.shape)\n",
        "\n",
        "    return torch.FloatTensor(embedding_matrix)"
      ]
    },
    {
      "cell_type": "code",
      "execution_count": 10,
      "metadata": {
        "id": "mcwF22ehkQ0A"
      },
      "outputs": [],
      "source": [
        "import torch\n",
        "import torch.nn as nn\n",
        "from torch.nn.utils.rnn import pack_padded_sequence, pad_packed_sequence\n",
        "\n",
        "class ELMO(nn.Module):\n",
        "    def __init__(self, embedding_matrix, hidden_dim, num_layers, dropout, filename=None):\n",
        "        super(ELMO, self).__init__()\n",
        "\n",
        "        self.embedding_matrix = embedding_matrix\n",
        "        self.hidden_dim = hidden_dim\n",
        "        self.num_layers = num_layers\n",
        "        self.dropout = dropout\n",
        "\n",
        "        self.embedding = nn.Embedding.from_pretrained(embedding_matrix)\n",
        "        self.forward_lstm = nn.LSTM(embedding_matrix.shape[1], hidden_dim, num_layers, dropout=dropout, batch_first=True)\n",
        "        self.backward_lstm = nn.LSTM(embedding_matrix.shape[1], hidden_dim, num_layers, dropout=dropout, batch_first=True)\n",
        "        self.forward_linear = nn.Linear(hidden_dim, embedding_matrix.shape[0])\n",
        "        self.backward_linear = nn.Linear(hidden_dim, embedding_matrix.shape[0])\n",
        "\n",
        "        if filename:\n",
        "            self.load_state_dict(torch.load(filename), strict=False)\n",
        "\n",
        "    def forward(self, input_tensor, lengths, forward):\n",
        "        embedded = self.embedding(input_tensor)\n",
        "        output = pack_padded_sequence(embedded, lengths, batch_first=True, enforce_sorted=False)\n",
        "        if forward:\n",
        "            output, (h_n, c_n) = self.forward_lstm(output, None)\n",
        "            output, _ = pad_packed_sequence(output, batch_first=True)\n",
        "            output = self.forward_linear(output)\n",
        "        else:\n",
        "            output, (h_n, c_n) = self.backward_lstm(output, None)\n",
        "            output, _ = pad_packed_sequence(output, batch_first=True)\n",
        "            output = self.backward_linear(output)\n",
        "\n",
        "        return output, h_n, c_n, embedded"
      ]
    },
    {
      "cell_type": "code",
      "execution_count": 11,
      "metadata": {
        "id": "sFvUaUuaFKvX"
      },
      "outputs": [],
      "source": [
        "from tqdm import tqdm\n",
        "\n",
        "def run_epoch(model, data_loader, loss_fn, epoch, forward, optimizer=None):\n",
        "    if optimizer:\n",
        "        model.train()\n",
        "    else:\n",
        "        model.eval()\n",
        "\n",
        "    total_loss = 0\n",
        "    p_bar = tqdm(data_loader)\n",
        "\n",
        "    for (input_tensor, target_truth, lengths) in p_bar:\n",
        "\n",
        "        input_tensor = input_tensor.cuda()\n",
        "        target_truth = target_truth.cuda()\n",
        "\n",
        "        output, _, _, _= model(input_tensor, lengths, forward)\n",
        "        output = output.reshape(-1, output.shape[2])\n",
        "\n",
        "        target_truth = target_truth.reshape(-1)\n",
        "        loss = loss_fn(output, target_truth)\n",
        "        total_loss += loss.item()\n",
        "\n",
        "        if optimizer:\n",
        "            optimizer.zero_grad()\n",
        "            loss.backward()\n",
        "            optimizer.step()\n",
        "\n",
        "        mean_loss = total_loss / len(data_loader)\n",
        "\n",
        "        p_bar.set_description(f'{\"T\" if optimizer else \"V\"} Loss: {mean_loss:.4f}, count: {epoch}')\n",
        "\n",
        "    return mean_loss"
      ]
    },
    {
      "cell_type": "code",
      "execution_count": 12,
      "metadata": {
        "id": "B_bi722aFKvX"
      },
      "outputs": [],
      "source": [
        "import torch.nn as nn\n",
        "\n",
        "\n",
        "def train(optimizer, embedding_dimension, hidden_dimension, dropout_rate, learning_rate):\n",
        "    num_epochs = 50\n",
        "\n",
        "    glove_vectors = gensim.downloader.load(f'glove-wiki-gigaword-{embedding_dimension}')\n",
        "    loss_fn = nn.CrossEntropyLoss(ignore_index=word_to_ix['<pad>'])\n",
        "\n",
        "    model = ELMO(embedding_matrix(word_to_ix, glove_vectors), hidden_dimension, 1, dropout_rate)\n",
        "\n",
        "    optimizer = getattr(torch.optim, optimizer)(model.parameters(), lr=learning_rate)\n",
        "\n",
        "    model.cuda()\n",
        "\n",
        "    best_val_loss = float('inf')\n",
        "\n",
        "    all_val_loss = []\n",
        "    all_train_loss = []\n",
        "\n",
        "    for epoch in range(num_epochs):\n",
        "\n",
        "        forward_train_loss = run_epoch(model, forward_pre_train_loader, loss_fn, epoch+1, 1, optimizer)\n",
        "        backward_train_loss = run_epoch(model, backward_pre_train_loader, loss_fn, epoch+1, 0, optimizer)\n",
        "\n",
        "        with torch.no_grad():\n",
        "            forward_val_loss = run_epoch(model, forward_pre_val_loader, loss_fn, epoch+1, 1)\n",
        "            backward_val_loss = run_epoch(model, backward_pre_val_loader, loss_fn, epoch+1, 0)\n",
        "\n",
        "        print('Epoch: {}, F Train Loss: {:.4f}, F Val Loss: {:.4f}'.format(epoch+1, forward_train_loss, forward_val_loss))\n",
        "        print('Epoch: {}, B Train Loss: {:.4f}, B Val Loss: {:.4f}'.format(epoch+1, backward_train_loss, backward_val_loss))\n",
        "        average_train_loss = (forward_train_loss + backward_train_loss) / 2\n",
        "        average_val_loss = (forward_val_loss + backward_val_loss) / 2\n",
        "\n",
        "        all_train_loss.append(average_train_loss)\n",
        "        all_val_loss.append(average_val_loss)\n",
        "        print('Average Train Loss: {:.4f}, Average Val Loss: {:.4f}'.format(average_train_loss, average_val_loss))\n",
        "        print('-------------------------------------------------------')\n",
        "\n",
        "        if average_val_loss < best_val_loss:\n",
        "            counter = 0\n",
        "            best_val_loss = average_val_loss\n",
        "            torch.save(model.state_dict(), 'best_elmo_model.pth')\n",
        "        else:\n",
        "            counter += 1\n",
        "            if counter == 3:\n",
        "                break\n",
        "\n",
        "    return all_train_loss, all_val_loss"
      ]
    },
    {
      "cell_type": "code",
      "execution_count": 13,
      "metadata": {
        "colab": {
          "base_uri": "https://localhost:8080/"
        },
        "id": "Jc3pjymYcyXw",
        "outputId": "84c73cd0-79b0-4de6-8dbe-79165cbc475f"
      },
      "outputs": [
        {
          "name": "stdout",
          "output_type": "stream",
          "text": [
            "(59352, 100)\n"
          ]
        },
        {
          "name": "stderr",
          "output_type": "stream",
          "text": [
            "/home/swetha/.conda/envs/ml/lib/python3.11/site-packages/torch/nn/modules/rnn.py:71: UserWarning: dropout option adds dropout after all but last recurrent layer, so non-zero dropout expects num_layers greater than 1, but got dropout=0.2 and num_layers=1\n",
            "  warnings.warn(\"dropout option adds dropout after all but last \"\n",
            "T Loss: 7.5116, count: 1: 100%|██████████| 250/250 [00:15<00:00, 15.80it/s]\n",
            "T Loss: 7.5147, count: 1: 100%|██████████| 250/250 [00:16<00:00, 15.58it/s]\n",
            "V Loss: 7.1333, count: 1: 100%|██████████| 63/63 [00:01<00:00, 37.36it/s]\n",
            "V Loss: 7.1156, count: 1: 100%|██████████| 63/63 [00:01<00:00, 38.39it/s]\n"
          ]
        },
        {
          "name": "stdout",
          "output_type": "stream",
          "text": [
            "Epoch: 1, F Train Loss: 7.5116, F Val Loss: 7.1333\n",
            "Epoch: 1, B Train Loss: 7.5147, B Val Loss: 7.1156\n",
            "Average Train Loss: 7.5132, Average Val Loss: 7.1245\n",
            "-------------------------------------------------------\n"
          ]
        },
        {
          "name": "stderr",
          "output_type": "stream",
          "text": [
            "T Loss: 6.8360, count: 2: 100%|██████████| 250/250 [00:16<00:00, 15.35it/s]\n",
            "T Loss: 6.8181, count: 2: 100%|██████████| 250/250 [00:16<00:00, 15.08it/s]\n",
            "V Loss: 6.9684, count: 2: 100%|██████████| 63/63 [00:01<00:00, 35.82it/s]\n",
            "V Loss: 6.9417, count: 2: 100%|██████████| 63/63 [00:01<00:00, 36.10it/s]\n"
          ]
        },
        {
          "name": "stdout",
          "output_type": "stream",
          "text": [
            "Epoch: 2, F Train Loss: 6.8360, F Val Loss: 6.9684\n",
            "Epoch: 2, B Train Loss: 6.8181, B Val Loss: 6.9417\n",
            "Average Train Loss: 6.8271, Average Val Loss: 6.9550\n",
            "-------------------------------------------------------\n"
          ]
        },
        {
          "name": "stderr",
          "output_type": "stream",
          "text": [
            "T Loss: 6.5901, count: 3: 100%|██████████| 250/250 [00:17<00:00, 14.66it/s]\n",
            "T Loss: 6.5738, count: 3: 100%|██████████| 250/250 [00:17<00:00, 14.43it/s]\n",
            "V Loss: 6.7572, count: 3: 100%|██████████| 63/63 [00:01<00:00, 34.95it/s]\n",
            "V Loss: 6.7535, count: 3: 100%|██████████| 63/63 [00:01<00:00, 36.28it/s]\n"
          ]
        },
        {
          "name": "stdout",
          "output_type": "stream",
          "text": [
            "Epoch: 3, F Train Loss: 6.5901, F Val Loss: 6.7572\n",
            "Epoch: 3, B Train Loss: 6.5738, B Val Loss: 6.7535\n",
            "Average Train Loss: 6.5819, Average Val Loss: 6.7554\n",
            "-------------------------------------------------------\n"
          ]
        },
        {
          "name": "stderr",
          "output_type": "stream",
          "text": [
            "T Loss: 6.3381, count: 4: 100%|██████████| 250/250 [00:17<00:00, 14.62it/s]\n",
            "T Loss: 6.3320, count: 4: 100%|██████████| 250/250 [00:17<00:00, 14.54it/s]\n",
            "V Loss: 6.5770, count: 4: 100%|██████████| 63/63 [00:01<00:00, 36.02it/s]\n",
            "V Loss: 6.5741, count: 4: 100%|██████████| 63/63 [00:01<00:00, 35.00it/s]\n"
          ]
        },
        {
          "name": "stdout",
          "output_type": "stream",
          "text": [
            "Epoch: 4, F Train Loss: 6.3381, F Val Loss: 6.5770\n",
            "Epoch: 4, B Train Loss: 6.3320, B Val Loss: 6.5741\n",
            "Average Train Loss: 6.3350, Average Val Loss: 6.5755\n",
            "-------------------------------------------------------\n"
          ]
        },
        {
          "name": "stderr",
          "output_type": "stream",
          "text": [
            "T Loss: 6.1149, count: 5: 100%|██████████| 250/250 [00:17<00:00, 14.67it/s]\n",
            "T Loss: 6.1165, count: 5: 100%|██████████| 250/250 [00:17<00:00, 14.51it/s]\n",
            "V Loss: 6.4242, count: 5: 100%|██████████| 63/63 [00:01<00:00, 35.13it/s]\n",
            "V Loss: 6.4398, count: 5: 100%|██████████| 63/63 [00:01<00:00, 35.18it/s]\n"
          ]
        },
        {
          "name": "stdout",
          "output_type": "stream",
          "text": [
            "Epoch: 5, F Train Loss: 6.1149, F Val Loss: 6.4242\n",
            "Epoch: 5, B Train Loss: 6.1165, B Val Loss: 6.4398\n",
            "Average Train Loss: 6.1157, Average Val Loss: 6.4320\n",
            "-------------------------------------------------------\n"
          ]
        },
        {
          "name": "stderr",
          "output_type": "stream",
          "text": [
            "T Loss: 5.9191, count: 6: 100%|██████████| 250/250 [00:16<00:00, 14.78it/s]\n",
            "T Loss: 5.9415, count: 6: 100%|██████████| 250/250 [00:16<00:00, 14.80it/s]\n",
            "V Loss: 6.3171, count: 6: 100%|██████████| 63/63 [00:01<00:00, 35.18it/s]\n",
            "V Loss: 6.3362, count: 6: 100%|██████████| 63/63 [00:01<00:00, 35.84it/s]\n"
          ]
        },
        {
          "name": "stdout",
          "output_type": "stream",
          "text": [
            "Epoch: 6, F Train Loss: 5.9191, F Val Loss: 6.3171\n",
            "Epoch: 6, B Train Loss: 5.9415, B Val Loss: 6.3362\n",
            "Average Train Loss: 5.9303, Average Val Loss: 6.3267\n",
            "-------------------------------------------------------\n"
          ]
        },
        {
          "name": "stderr",
          "output_type": "stream",
          "text": [
            "T Loss: 5.7535, count: 7: 100%|██████████| 250/250 [00:16<00:00, 14.71it/s]\n",
            "T Loss: 5.7938, count: 7: 100%|██████████| 250/250 [00:16<00:00, 14.78it/s]\n",
            "V Loss: 6.2266, count: 7: 100%|██████████| 63/63 [00:01<00:00, 36.12it/s]\n",
            "V Loss: 6.2663, count: 7: 100%|██████████| 63/63 [00:01<00:00, 36.39it/s]\n"
          ]
        },
        {
          "name": "stdout",
          "output_type": "stream",
          "text": [
            "Epoch: 7, F Train Loss: 5.7535, F Val Loss: 6.2266\n",
            "Epoch: 7, B Train Loss: 5.7938, B Val Loss: 6.2663\n",
            "Average Train Loss: 5.7736, Average Val Loss: 6.2464\n",
            "-------------------------------------------------------\n"
          ]
        },
        {
          "name": "stderr",
          "output_type": "stream",
          "text": [
            "T Loss: 5.6123, count: 8: 100%|██████████| 250/250 [00:16<00:00, 14.88it/s]\n",
            "T Loss: 5.6646, count: 8: 100%|██████████| 250/250 [00:16<00:00, 14.81it/s]\n",
            "V Loss: 6.1541, count: 8: 100%|██████████| 63/63 [00:01<00:00, 36.63it/s]\n",
            "V Loss: 6.2040, count: 8: 100%|██████████| 63/63 [00:01<00:00, 36.27it/s]\n"
          ]
        },
        {
          "name": "stdout",
          "output_type": "stream",
          "text": [
            "Epoch: 8, F Train Loss: 5.6123, F Val Loss: 6.1541\n",
            "Epoch: 8, B Train Loss: 5.6646, B Val Loss: 6.2040\n",
            "Average Train Loss: 5.6385, Average Val Loss: 6.1791\n",
            "-------------------------------------------------------\n"
          ]
        },
        {
          "name": "stderr",
          "output_type": "stream",
          "text": [
            "T Loss: 5.4871, count: 9: 100%|██████████| 250/250 [00:16<00:00, 15.05it/s]\n",
            "T Loss: 5.5469, count: 9: 100%|██████████| 250/250 [00:16<00:00, 15.16it/s]\n",
            "V Loss: 6.1093, count: 9: 100%|██████████| 63/63 [00:01<00:00, 36.36it/s]\n",
            "V Loss: 6.1469, count: 9: 100%|██████████| 63/63 [00:01<00:00, 35.93it/s]\n"
          ]
        },
        {
          "name": "stdout",
          "output_type": "stream",
          "text": [
            "Epoch: 9, F Train Loss: 5.4871, F Val Loss: 6.1093\n",
            "Epoch: 9, B Train Loss: 5.5469, B Val Loss: 6.1469\n",
            "Average Train Loss: 5.5170, Average Val Loss: 6.1281\n",
            "-------------------------------------------------------\n"
          ]
        },
        {
          "name": "stderr",
          "output_type": "stream",
          "text": [
            "T Loss: 5.3729, count: 10: 100%|██████████| 250/250 [00:22<00:00, 11.36it/s]\n",
            "T Loss: 5.4361, count: 10: 100%|██████████| 250/250 [00:16<00:00, 14.77it/s]\n",
            "V Loss: 6.0589, count: 10: 100%|██████████| 63/63 [00:01<00:00, 36.14it/s]\n",
            "V Loss: 6.1045, count: 10: 100%|██████████| 63/63 [00:01<00:00, 35.87it/s]\n"
          ]
        },
        {
          "name": "stdout",
          "output_type": "stream",
          "text": [
            "Epoch: 10, F Train Loss: 5.3729, F Val Loss: 6.0589\n",
            "Epoch: 10, B Train Loss: 5.4361, B Val Loss: 6.1045\n",
            "Average Train Loss: 5.4045, Average Val Loss: 6.0817\n",
            "-------------------------------------------------------\n"
          ]
        },
        {
          "name": "stderr",
          "output_type": "stream",
          "text": [
            "T Loss: 5.2685, count: 11: 100%|██████████| 250/250 [00:17<00:00, 14.62it/s]\n",
            "T Loss: 5.3338, count: 11: 100%|██████████| 250/250 [00:17<00:00, 14.67it/s]\n",
            "V Loss: 6.0257, count: 11: 100%|██████████| 63/63 [00:01<00:00, 35.91it/s]\n",
            "V Loss: 6.0683, count: 11: 100%|██████████| 63/63 [00:01<00:00, 35.65it/s]\n"
          ]
        },
        {
          "name": "stdout",
          "output_type": "stream",
          "text": [
            "Epoch: 11, F Train Loss: 5.2685, F Val Loss: 6.0257\n",
            "Epoch: 11, B Train Loss: 5.3338, B Val Loss: 6.0683\n",
            "Average Train Loss: 5.3011, Average Val Loss: 6.0470\n",
            "-------------------------------------------------------\n"
          ]
        },
        {
          "name": "stderr",
          "output_type": "stream",
          "text": [
            "T Loss: 5.1729, count: 12: 100%|██████████| 250/250 [00:16<00:00, 14.79it/s]\n",
            "T Loss: 5.2396, count: 12: 100%|██████████| 250/250 [00:17<00:00, 14.44it/s]\n",
            "V Loss: 5.9961, count: 12: 100%|██████████| 63/63 [00:01<00:00, 35.00it/s]\n",
            "V Loss: 6.0423, count: 12: 100%|██████████| 63/63 [00:01<00:00, 35.53it/s]\n"
          ]
        },
        {
          "name": "stdout",
          "output_type": "stream",
          "text": [
            "Epoch: 12, F Train Loss: 5.1729, F Val Loss: 5.9961\n",
            "Epoch: 12, B Train Loss: 5.2396, B Val Loss: 6.0423\n",
            "Average Train Loss: 5.2062, Average Val Loss: 6.0192\n",
            "-------------------------------------------------------\n"
          ]
        },
        {
          "name": "stderr",
          "output_type": "stream",
          "text": [
            "T Loss: 5.0832, count: 13: 100%|██████████| 250/250 [00:17<00:00, 14.41it/s]\n",
            "T Loss: 5.1509, count: 13: 100%|██████████| 250/250 [00:17<00:00, 14.29it/s]\n",
            "V Loss: 5.9714, count: 13: 100%|██████████| 63/63 [00:01<00:00, 35.39it/s]\n",
            "V Loss: 6.0130, count: 13: 100%|██████████| 63/63 [00:01<00:00, 34.93it/s]\n"
          ]
        },
        {
          "name": "stdout",
          "output_type": "stream",
          "text": [
            "Epoch: 13, F Train Loss: 5.0832, F Val Loss: 5.9714\n",
            "Epoch: 13, B Train Loss: 5.1509, B Val Loss: 6.0130\n",
            "Average Train Loss: 5.1170, Average Val Loss: 5.9922\n",
            "-------------------------------------------------------\n"
          ]
        },
        {
          "name": "stderr",
          "output_type": "stream",
          "text": [
            "T Loss: 5.0025, count: 14: 100%|██████████| 250/250 [00:17<00:00, 14.42it/s]\n",
            "T Loss: 5.0681, count: 14: 100%|██████████| 250/250 [00:17<00:00, 14.47it/s]\n",
            "V Loss: 5.9432, count: 14: 100%|██████████| 63/63 [00:01<00:00, 35.03it/s]\n",
            "V Loss: 5.9874, count: 14: 100%|██████████| 63/63 [00:01<00:00, 34.79it/s]\n"
          ]
        },
        {
          "name": "stdout",
          "output_type": "stream",
          "text": [
            "Epoch: 14, F Train Loss: 5.0025, F Val Loss: 5.9432\n",
            "Epoch: 14, B Train Loss: 5.0681, B Val Loss: 5.9874\n",
            "Average Train Loss: 5.0353, Average Val Loss: 5.9653\n",
            "-------------------------------------------------------\n"
          ]
        },
        {
          "name": "stderr",
          "output_type": "stream",
          "text": [
            "T Loss: 4.9260, count: 15: 100%|██████████| 250/250 [00:17<00:00, 14.26it/s]\n",
            "T Loss: 4.9911, count: 15: 100%|██████████| 250/250 [00:17<00:00, 14.17it/s]\n",
            "V Loss: 5.9354, count: 15: 100%|██████████| 63/63 [00:01<00:00, 34.71it/s]\n",
            "V Loss: 5.9751, count: 15: 100%|██████████| 63/63 [00:01<00:00, 35.14it/s]\n"
          ]
        },
        {
          "name": "stdout",
          "output_type": "stream",
          "text": [
            "Epoch: 15, F Train Loss: 4.9260, F Val Loss: 5.9354\n",
            "Epoch: 15, B Train Loss: 4.9911, B Val Loss: 5.9751\n",
            "Average Train Loss: 4.9585, Average Val Loss: 5.9553\n",
            "-------------------------------------------------------\n"
          ]
        },
        {
          "name": "stderr",
          "output_type": "stream",
          "text": [
            "T Loss: 4.8529, count: 16: 100%|██████████| 250/250 [00:17<00:00, 14.24it/s]\n",
            "T Loss: 4.9155, count: 16: 100%|██████████| 250/250 [00:17<00:00, 14.27it/s]\n",
            "V Loss: 5.9254, count: 16: 100%|██████████| 63/63 [00:01<00:00, 33.57it/s]\n",
            "V Loss: 5.9625, count: 16: 100%|██████████| 63/63 [00:01<00:00, 34.88it/s]\n"
          ]
        },
        {
          "name": "stdout",
          "output_type": "stream",
          "text": [
            "Epoch: 16, F Train Loss: 4.8529, F Val Loss: 5.9254\n",
            "Epoch: 16, B Train Loss: 4.9155, B Val Loss: 5.9625\n",
            "Average Train Loss: 4.8842, Average Val Loss: 5.9440\n",
            "-------------------------------------------------------\n"
          ]
        },
        {
          "name": "stderr",
          "output_type": "stream",
          "text": [
            "T Loss: 4.7847, count: 17: 100%|██████████| 250/250 [00:17<00:00, 14.17it/s]\n",
            "T Loss: 4.8471, count: 17: 100%|██████████| 250/250 [00:17<00:00, 14.24it/s]\n",
            "V Loss: 5.9221, count: 17: 100%|██████████| 63/63 [00:01<00:00, 34.08it/s]\n",
            "V Loss: 5.9548, count: 17: 100%|██████████| 63/63 [00:01<00:00, 33.96it/s]\n"
          ]
        },
        {
          "name": "stdout",
          "output_type": "stream",
          "text": [
            "Epoch: 17, F Train Loss: 4.7847, F Val Loss: 5.9221\n",
            "Epoch: 17, B Train Loss: 4.8471, B Val Loss: 5.9548\n",
            "Average Train Loss: 4.8159, Average Val Loss: 5.9385\n",
            "-------------------------------------------------------\n"
          ]
        },
        {
          "name": "stderr",
          "output_type": "stream",
          "text": [
            "T Loss: 4.7193, count: 18: 100%|██████████| 250/250 [00:17<00:00, 14.25it/s]\n",
            "T Loss: 4.7816, count: 18: 100%|██████████| 250/250 [00:17<00:00, 14.31it/s]\n",
            "V Loss: 5.9137, count: 18: 100%|██████████| 63/63 [00:01<00:00, 34.64it/s]\n",
            "V Loss: 5.9394, count: 18: 100%|██████████| 63/63 [00:01<00:00, 34.59it/s]\n"
          ]
        },
        {
          "name": "stdout",
          "output_type": "stream",
          "text": [
            "Epoch: 18, F Train Loss: 4.7193, F Val Loss: 5.9137\n",
            "Epoch: 18, B Train Loss: 4.7816, B Val Loss: 5.9394\n",
            "Average Train Loss: 4.7504, Average Val Loss: 5.9266\n",
            "-------------------------------------------------------\n"
          ]
        },
        {
          "name": "stderr",
          "output_type": "stream",
          "text": [
            "T Loss: 4.6592, count: 19: 100%|██████████| 250/250 [00:17<00:00, 14.08it/s]\n",
            "T Loss: 4.7193, count: 19: 100%|██████████| 250/250 [00:17<00:00, 13.98it/s]\n",
            "V Loss: 5.9092, count: 19: 100%|██████████| 63/63 [00:01<00:00, 34.16it/s]\n",
            "V Loss: 5.9297, count: 19: 100%|██████████| 63/63 [00:01<00:00, 34.62it/s]\n"
          ]
        },
        {
          "name": "stdout",
          "output_type": "stream",
          "text": [
            "Epoch: 19, F Train Loss: 4.6592, F Val Loss: 5.9092\n",
            "Epoch: 19, B Train Loss: 4.7193, B Val Loss: 5.9297\n",
            "Average Train Loss: 4.6892, Average Val Loss: 5.9195\n",
            "-------------------------------------------------------\n"
          ]
        },
        {
          "name": "stderr",
          "output_type": "stream",
          "text": [
            "T Loss: 4.6024, count: 20: 100%|██████████| 250/250 [00:17<00:00, 14.19it/s]\n",
            "T Loss: 4.6613, count: 20: 100%|██████████| 250/250 [00:17<00:00, 14.01it/s]\n",
            "V Loss: 5.9161, count: 20: 100%|██████████| 63/63 [00:01<00:00, 34.40it/s]\n",
            "V Loss: 5.9404, count: 20: 100%|██████████| 63/63 [00:01<00:00, 33.95it/s]\n"
          ]
        },
        {
          "name": "stdout",
          "output_type": "stream",
          "text": [
            "Epoch: 20, F Train Loss: 4.6024, F Val Loss: 5.9161\n",
            "Epoch: 20, B Train Loss: 4.6613, B Val Loss: 5.9404\n",
            "Average Train Loss: 4.6319, Average Val Loss: 5.9283\n",
            "-------------------------------------------------------\n"
          ]
        },
        {
          "name": "stderr",
          "output_type": "stream",
          "text": [
            "T Loss: 4.5464, count: 21: 100%|██████████| 250/250 [00:17<00:00, 13.98it/s]\n",
            "T Loss: 4.6047, count: 21: 100%|██████████| 250/250 [00:17<00:00, 14.04it/s]\n",
            "V Loss: 5.9119, count: 21: 100%|██████████| 63/63 [00:01<00:00, 35.02it/s]\n",
            "V Loss: 5.9353, count: 21: 100%|██████████| 63/63 [00:01<00:00, 34.77it/s]\n"
          ]
        },
        {
          "name": "stdout",
          "output_type": "stream",
          "text": [
            "Epoch: 21, F Train Loss: 4.5464, F Val Loss: 5.9119\n",
            "Epoch: 21, B Train Loss: 4.6047, B Val Loss: 5.9353\n",
            "Average Train Loss: 4.5756, Average Val Loss: 5.9236\n",
            "-------------------------------------------------------\n"
          ]
        },
        {
          "name": "stderr",
          "output_type": "stream",
          "text": [
            "T Loss: 4.4953, count: 22: 100%|██████████| 250/250 [00:17<00:00, 13.94it/s]\n",
            "T Loss: 4.5512, count: 22: 100%|██████████| 250/250 [00:17<00:00, 14.02it/s]\n",
            "V Loss: 5.9191, count: 22: 100%|██████████| 63/63 [00:01<00:00, 34.90it/s]\n",
            "V Loss: 5.9396, count: 22: 100%|██████████| 63/63 [00:01<00:00, 34.44it/s]\n"
          ]
        },
        {
          "name": "stdout",
          "output_type": "stream",
          "text": [
            "Epoch: 22, F Train Loss: 4.4953, F Val Loss: 5.9191\n",
            "Epoch: 22, B Train Loss: 4.5512, B Val Loss: 5.9396\n",
            "Average Train Loss: 4.5232, Average Val Loss: 5.9293\n",
            "-------------------------------------------------------\n"
          ]
        }
      ],
      "source": [
        "all_emlo_train_loss, all_elmo_val_loss = train('Adam', 100, 100, 0.2, 0.001)"
      ]
    },
    {
      "cell_type": "code",
      "execution_count": 14,
      "metadata": {
        "id": "RatJ0z5XcyXw"
      },
      "outputs": [],
      "source": [
        "from torch.utils.data import DataLoader, Dataset\n",
        "\n",
        "class Downstream_Dataset(Dataset):\n",
        "    def __init__(self, data_set, labels, word_to_ix):\n",
        "        self.data_set = [['<sos>'] + x + ['<eos>'] for x in data_set]\n",
        "        self.word_to_ix = word_to_ix\n",
        "        self.indexed_data = [[word_to_ix.get(word, word_to_ix['<unk>']) for word in sentence] for sentence in self.data_set]\n",
        "        self.labels = labels\n",
        "\n",
        "    def __len__(self):\n",
        "        return len(self.data_set)\n",
        "\n",
        "    def __getitem__(self, idx):\n",
        "        return torch.tensor(self.indexed_data[idx]), torch.tensor(self.indexed_data[idx][::-1]), torch.tensor(self.labels[idx])"
      ]
    },
    {
      "cell_type": "code",
      "execution_count": 24,
      "metadata": {
        "id": "p-SU9a_GcyXw"
      },
      "outputs": [],
      "source": [
        "from torch.nn.utils.rnn import pad_sequence\n",
        "\n",
        "def downstream_collate_fn(batch):\n",
        "    x_forward = pad_sequence([x[0] for x in batch], batch_first=True, padding_value=word_to_ix['<pad>'])\n",
        "    x_backward = pad_sequence([x[1] for x in batch], batch_first=True, padding_value=word_to_ix['<pad>'])\n",
        "\n",
        "    lengths = torch.LongTensor([len(x[0]) for x in batch])\n",
        "    labels = torch.LongTensor([x[2] - 1 for x in batch])\n",
        "\n",
        "    return x_forward, x_backward, lengths, labels"
      ]
    },
    {
      "cell_type": "code",
      "execution_count": 25,
      "metadata": {
        "id": "7_ivKVg8cyXx"
      },
      "outputs": [],
      "source": [
        "train_labels = list(train_df['Class Index'])\n",
        "\n",
        "downstream_train_set = train_set[PRE_TRAIN_SET+PRE_VAL_SET:PRE_TRAIN_SET+PRE_VAL_SET+DOWNSTREAM_TRAIN_SET]\n",
        "downstream_train_labels = train_labels[PRE_TRAIN_SET+PRE_VAL_SET:PRE_TRAIN_SET+PRE_VAL_SET+DOWNSTREAM_TRAIN_SET]\n",
        "downstream_val_set = train_set[PRE_TRAIN_SET+PRE_VAL_SET+DOWNSTREAM_TRAIN_SET:PRE_TRAIN_SET+PRE_VAL_SET+DOWNSTREAM_TRAIN_SET+DOWNSTREAM_VAL_SET]\n",
        "downstream_val_labels = train_labels[PRE_TRAIN_SET+PRE_VAL_SET+DOWNSTREAM_TRAIN_SET:PRE_TRAIN_SET+PRE_VAL_SET+DOWNSTREAM_TRAIN_SET+DOWNSTREAM_VAL_SET]"
      ]
    },
    {
      "cell_type": "code",
      "execution_count": 26,
      "metadata": {
        "id": "Za351g7PcyXx"
      },
      "outputs": [],
      "source": [
        "downstream_train_dataset = Downstream_Dataset(downstream_train_set, downstream_train_labels, word_to_ix)\n",
        "downstream_val_dataset = Downstream_Dataset(downstream_val_set, downstream_val_labels, word_to_ix)\n",
        "\n",
        "downstream_train_loader = DataLoader(downstream_train_dataset, batch_size=32, shuffle=True, pin_memory=True, num_workers=2, collate_fn=downstream_collate_fn)\n",
        "downstream_val_loader = DataLoader(downstream_val_dataset, batch_size=32, shuffle=False, pin_memory=True, num_workers=2, collate_fn=downstream_collate_fn)"
      ]
    },
    {
      "cell_type": "code",
      "execution_count": 27,
      "metadata": {
        "id": "oByT9VtMcyXx"
      },
      "outputs": [],
      "source": [
        "import torch.nn as nn\n",
        "\n",
        "class Downstream_Model(nn.Module):\n",
        "    def __init__(self, embedding_matrix, hidden_dim, num_layers, dropout):\n",
        "        super(Downstream_Model, self).__init__()\n",
        "\n",
        "        self.embedding_matrix = embedding_matrix\n",
        "        self.hidden_dim = hidden_dim\n",
        "        self.num_layers = num_layers\n",
        "        self.dropout = dropout\n",
        "\n",
        "        self.elmo = ELMO(embedding_matrix, hidden_dim, num_layers, dropout, 'best_elmo_model.pth')\n",
        "\n",
        "        for param in self.elmo.parameters():\n",
        "            param.requires_grad = False\n",
        "\n",
        "        self.delta = nn.Parameter(torch.randn(1, 3))\n",
        "        self.linear = nn.Linear(hidden_dim * 2, 4)\n",
        "\n",
        "    def forward(self, forward_input, backward_input, lengths):\n",
        "        _, forward_h_n, forward_c_n, input = self.elmo(forward_input, lengths, 1)\n",
        "        _, backward_h_n, backward_c_n, _ = self.elmo(backward_input, lengths, 0)\n",
        "\n",
        "        input = torch.mean(input, dim=1)\n",
        "\n",
        "        forward_h_n = forward_h_n.permute(1, 0, 2)\n",
        "        backward_h_n = backward_h_n.permute(1, 0, 2)\n",
        "        forward_c_n = forward_c_n.permute(1, 0, 2)\n",
        "        backward_c_n = backward_c_n.permute(1, 0, 2)\n",
        "\n",
        "        hidden = torch.cat([forward_h_n, backward_h_n], dim=2)\n",
        "        cell = torch.cat([forward_c_n, backward_c_n], dim=2)\n",
        "\n",
        "        mean = (hidden + cell) / 2\n",
        "        input = torch.cat([input] * mean.shape[1], dim=1).unsqueeze(1)\n",
        "\n",
        "        mean = torch.cat([mean, input], dim=1)\n",
        "        mean = (self.delta / (torch.sum(self.delta))) @ mean\n",
        "        mean = mean.squeeze(0)\n",
        "\n",
        "        output = self.linear(mean)\n",
        "        return output"
      ]
    },
    {
      "cell_type": "code",
      "execution_count": 28,
      "metadata": {
        "id": "F5oTFbr8hNxH"
      },
      "outputs": [],
      "source": [
        "def calculate_accuracy(output, labels):\n",
        "    _, predicted = torch.max(output, 1)\n",
        "    correct = (predicted == labels).sum().item()\n",
        "    accuracy = correct / labels.size(0)\n",
        "    return accuracy"
      ]
    },
    {
      "cell_type": "code",
      "execution_count": 32,
      "metadata": {
        "colab": {
          "base_uri": "https://localhost:8080/"
        },
        "id": "-95t09yYcyXx",
        "outputId": "4a22b533-4a99-4895-8cfd-f8f3cad7e7d1"
      },
      "outputs": [
        {
          "name": "stdout",
          "output_type": "stream",
          "text": [
            "(59352, 100)\n"
          ]
        }
      ],
      "source": [
        "num_classes = 4\n",
        "\n",
        "downstream_model = Downstream_Model(embedding_matrix(word_to_ix, glove_vectors), 100, 2, 0.2)\n",
        "downstream_model = downstream_model.cuda()\n",
        "\n",
        "def run_downstream_epoch(model, data_loader, loss_fn, epoch, optimizer=None):\n",
        "    if optimizer:\n",
        "        model.train()\n",
        "    else:\n",
        "        model.eval()\n",
        "\n",
        "    total_loss = 0\n",
        "    total_accuracy = 0\n",
        "\n",
        "    p_bar = tqdm(data_loader)\n",
        "\n",
        "    for (x_forward, x_backward, lengths, labels) in p_bar:\n",
        "        x_forward = x_forward.cuda()\n",
        "        x_backward = x_backward.cuda()\n",
        "\n",
        "        labels = labels.cuda()\n",
        "\n",
        "        output = model(x_forward, x_backward, lengths)\n",
        "\n",
        "        output = output.reshape(-1, output.shape[-1])\n",
        "\n",
        "        loss = loss_fn(output, labels)\n",
        "        total_loss += loss.item()\n",
        "\n",
        "        if optimizer:\n",
        "            optimizer.zero_grad()\n",
        "            loss.backward()\n",
        "            optimizer.step()\n",
        "\n",
        "        accuracy = calculate_accuracy(output, labels)\n",
        "        total_accuracy += accuracy\n",
        "\n",
        "        mean_loss = total_loss / len(data_loader)\n",
        "        mean_accuracy = total_accuracy / len(data_loader)\n",
        "\n",
        "        p_bar.set_description(f'{\"T\" if optimizer else \"V\"} Loss: {mean_loss:.4f}, count: {epoch}')\n",
        "\n",
        "    return mean_loss, mean_accuracy"
      ]
    },
    {
      "cell_type": "code",
      "execution_count": 33,
      "metadata": {
        "id": "ksTr671DcyXx"
      },
      "outputs": [],
      "source": [
        "import torch.nn as nn\n",
        "\n",
        "def train_downstream_classifier(optimizer):\n",
        "    num_epochs = 100\n",
        "\n",
        "    loss_fn = nn.CrossEntropyLoss(ignore_index=word_to_ix['<pad>'])\n",
        "\n",
        "    optimizer = getattr(torch.optim, optimizer)(downstream_model.parameters(), lr=0.001)\n",
        "\n",
        "    best_val_loss = float('inf')\n",
        "\n",
        "    all_val_loss = []\n",
        "    all_train_loss = []\n",
        "\n",
        "    all_val_accuracy = []\n",
        "    all_train_accuracy = []\n",
        "\n",
        "    for epoch in range(num_epochs):\n",
        "        train_loss, train_accuracy = run_downstream_epoch(downstream_model, downstream_train_loader, loss_fn, epoch+1, optimizer)\n",
        "        all_train_loss.append(train_loss)\n",
        "        all_train_accuracy.append(train_accuracy)\n",
        "\n",
        "        with torch.no_grad():\n",
        "            val_loss, val_accuracy = run_downstream_epoch(downstream_model, downstream_val_loader, loss_fn, epoch+1)\n",
        "            all_val_loss.append(val_loss)\n",
        "            all_val_accuracy.append(val_accuracy)\n",
        "\n",
        "        print('Epoch: {}, Train Loss: {:.4f}, Val Loss: {:.4f}, Train Accuracy: {:.4f}, Val Accuracy: {:.4f}'.format(epoch+1, train_loss, val_loss, train_accuracy, val_accuracy))\n",
        "\n",
        "        if val_loss < best_val_loss:\n",
        "            counter = 0\n",
        "            best_val_loss = val_loss\n",
        "            torch.save(downstream_model.state_dict(), 'best_downstream_model_.pth')\n",
        "        else:\n",
        "            counter += 1\n",
        "            if counter == 3:\n",
        "                break\n",
        "\n",
        "    return all_train_loss, all_val_loss, all_train_accuracy, all_val_accuracy"
      ]
    },
    {
      "cell_type": "code",
      "execution_count": 38,
      "metadata": {
        "colab": {
          "base_uri": "https://localhost:8080/"
        },
        "id": "RO75-hRecyXy",
        "outputId": "6af865d9-247d-4bed-c6a2-863ed372ad16"
      },
      "outputs": [
        {
          "name": "stderr",
          "output_type": "stream",
          "text": [
            "T Loss: 0.3933, count: 1: 100%|██████████| 2500/2500 [00:48<00:00, 51.13it/s]\n",
            "V Loss: 0.4135, count: 1: 100%|██████████| 625/625 [00:10<00:00, 58.03it/s]\n"
          ]
        },
        {
          "name": "stdout",
          "output_type": "stream",
          "text": [
            "Epoch: 1, Train Loss: 0.3933, Val Loss: 0.4135, Train Accuracy: 0.8627, Val Accuracy: 0.8502\n"
          ]
        },
        {
          "name": "stderr",
          "output_type": "stream",
          "text": [
            "T Loss: 0.3932, count: 2: 100%|██████████| 2500/2500 [00:49<00:00, 51.02it/s]\n",
            "V Loss: 0.3910, count: 2: 100%|██████████| 625/625 [00:10<00:00, 57.43it/s]\n"
          ]
        },
        {
          "name": "stdout",
          "output_type": "stream",
          "text": [
            "Epoch: 2, Train Loss: 0.3932, Val Loss: 0.3910, Train Accuracy: 0.8631, Val Accuracy: 0.8544\n"
          ]
        },
        {
          "name": "stderr",
          "output_type": "stream",
          "text": [
            "T Loss: 0.3916, count: 3: 100%|██████████| 2500/2500 [00:49<00:00, 50.49it/s]\n",
            "V Loss: 0.4031, count: 3: 100%|██████████| 625/625 [00:10<00:00, 57.83it/s]\n"
          ]
        },
        {
          "name": "stdout",
          "output_type": "stream",
          "text": [
            "Epoch: 3, Train Loss: 0.3916, Val Loss: 0.4031, Train Accuracy: 0.8633, Val Accuracy: 0.8570\n"
          ]
        },
        {
          "name": "stderr",
          "output_type": "stream",
          "text": [
            "T Loss: 0.3893, count: 4: 100%|██████████| 2500/2500 [00:49<00:00, 50.87it/s]\n",
            "V Loss: 0.3886, count: 4: 100%|██████████| 625/625 [00:10<00:00, 58.19it/s]\n"
          ]
        },
        {
          "name": "stdout",
          "output_type": "stream",
          "text": [
            "Epoch: 4, Train Loss: 0.3893, Val Loss: 0.3886, Train Accuracy: 0.8641, Val Accuracy: 0.8616\n"
          ]
        },
        {
          "name": "stderr",
          "output_type": "stream",
          "text": [
            "T Loss: 0.3887, count: 5: 100%|██████████| 2500/2500 [00:49<00:00, 50.95it/s]\n",
            "V Loss: 0.4595, count: 5: 100%|██████████| 625/625 [00:10<00:00, 58.23it/s]\n"
          ]
        },
        {
          "name": "stdout",
          "output_type": "stream",
          "text": [
            "Epoch: 5, Train Loss: 0.3887, Val Loss: 0.4595, Train Accuracy: 0.8639, Val Accuracy: 0.8262\n"
          ]
        },
        {
          "name": "stderr",
          "output_type": "stream",
          "text": [
            "T Loss: 0.3890, count: 6: 100%|██████████| 2500/2500 [00:48<00:00, 51.08it/s]\n",
            "V Loss: 0.3822, count: 6: 100%|██████████| 625/625 [00:10<00:00, 58.17it/s]\n"
          ]
        },
        {
          "name": "stdout",
          "output_type": "stream",
          "text": [
            "Epoch: 6, Train Loss: 0.3890, Val Loss: 0.3822, Train Accuracy: 0.8643, Val Accuracy: 0.8626\n"
          ]
        },
        {
          "name": "stderr",
          "output_type": "stream",
          "text": [
            "T Loss: 0.3888, count: 7: 100%|██████████| 2500/2500 [00:49<00:00, 50.82it/s]\n",
            "V Loss: 0.4229, count: 7: 100%|██████████| 625/625 [00:10<00:00, 57.59it/s]\n"
          ]
        },
        {
          "name": "stdout",
          "output_type": "stream",
          "text": [
            "Epoch: 7, Train Loss: 0.3888, Val Loss: 0.4229, Train Accuracy: 0.8636, Val Accuracy: 0.8422\n"
          ]
        },
        {
          "name": "stderr",
          "output_type": "stream",
          "text": [
            "T Loss: 0.3862, count: 8: 100%|██████████| 2500/2500 [00:49<00:00, 50.89it/s]\n",
            "V Loss: 0.4185, count: 8: 100%|██████████| 625/625 [00:10<00:00, 57.70it/s]\n"
          ]
        },
        {
          "name": "stdout",
          "output_type": "stream",
          "text": [
            "Epoch: 8, Train Loss: 0.3862, Val Loss: 0.4185, Train Accuracy: 0.8650, Val Accuracy: 0.8475\n"
          ]
        },
        {
          "name": "stderr",
          "output_type": "stream",
          "text": [
            "T Loss: 0.3865, count: 9: 100%|██████████| 2500/2500 [00:48<00:00, 51.09it/s]\n",
            "V Loss: 0.3790, count: 9: 100%|██████████| 625/625 [00:10<00:00, 57.99it/s]\n"
          ]
        },
        {
          "name": "stdout",
          "output_type": "stream",
          "text": [
            "Epoch: 9, Train Loss: 0.3865, Val Loss: 0.3790, Train Accuracy: 0.8658, Val Accuracy: 0.8632\n"
          ]
        },
        {
          "name": "stderr",
          "output_type": "stream",
          "text": [
            "T Loss: 0.3849, count: 10: 100%|██████████| 2500/2500 [00:49<00:00, 50.35it/s]\n",
            "V Loss: 0.3863, count: 10: 100%|██████████| 625/625 [00:10<00:00, 57.01it/s]\n"
          ]
        },
        {
          "name": "stdout",
          "output_type": "stream",
          "text": [
            "Epoch: 10, Train Loss: 0.3849, Val Loss: 0.3863, Train Accuracy: 0.8654, Val Accuracy: 0.8609\n"
          ]
        },
        {
          "name": "stderr",
          "output_type": "stream",
          "text": [
            "T Loss: 0.3847, count: 11: 100%|██████████| 2500/2500 [00:49<00:00, 50.21it/s]\n",
            "V Loss: 0.4091, count: 11: 100%|██████████| 625/625 [00:10<00:00, 57.11it/s]\n"
          ]
        },
        {
          "name": "stdout",
          "output_type": "stream",
          "text": [
            "Epoch: 11, Train Loss: 0.3847, Val Loss: 0.4091, Train Accuracy: 0.8651, Val Accuracy: 0.8524\n"
          ]
        },
        {
          "name": "stderr",
          "output_type": "stream",
          "text": [
            "T Loss: 0.3845, count: 12: 100%|██████████| 2500/2500 [00:49<00:00, 50.52it/s]\n",
            "V Loss: 0.3829, count: 12: 100%|██████████| 625/625 [00:10<00:00, 57.53it/s]"
          ]
        },
        {
          "name": "stdout",
          "output_type": "stream",
          "text": [
            "Epoch: 12, Train Loss: 0.3845, Val Loss: 0.3829, Train Accuracy: 0.8656, Val Accuracy: 0.8617\n"
          ]
        },
        {
          "name": "stderr",
          "output_type": "stream",
          "text": [
            "\n"
          ]
        }
      ],
      "source": [
        "all_downstream_train_loss, all_downstream_val_loss, all_downstream_train_accuracy, all_downstream_val_accuracy = train_downstream_classifier('Adam')"
      ]
    },
    {
      "cell_type": "code",
      "execution_count": 39,
      "metadata": {
        "id": "5pOlJKTriyFH"
      },
      "outputs": [],
      "source": [
        "import pickle\n",
        "\n",
        "results_dict = {\n",
        "    'elmo_train_loss': all_emlo_train_loss,\n",
        "    'elmo_val_loss': all_elmo_val_loss,\n",
        "    'downstream_train_loss': all_downstream_train_loss,\n",
        "    'downstream_val_loss': all_downstream_val_loss,\n",
        "    'downstream_train_accuracy': all_downstream_train_accuracy,\n",
        "    'downstream_val_accuracy': all_downstream_val_accuracy\n",
        "}\n",
        "\n",
        "with open('results.pkl', 'wb') as pickle_file:\n",
        "  pickle.dump(results_dict, pickle_file)"
      ]
    },
    {
      "cell_type": "code",
      "execution_count": 47,
      "metadata": {},
      "outputs": [],
      "source": [
        "# create testing dataset\n",
        "\n",
        "test_set = list(test_df['Description'])\n",
        "test_labels = list(test_df['Class Index'])\n",
        "\n",
        "test_dataset = Downstream_Dataset(test_set, test_labels, word_to_ix)\n",
        "test_loader = DataLoader(test_dataset, batch_size=32, shuffle=False, pin_memory=True, num_workers=2, collate_fn=downstream_collate_fn)"
      ]
    },
    {
      "cell_type": "code",
      "execution_count": 52,
      "metadata": {
        "id": "6Hqmg_EIl_dB"
      },
      "outputs": [],
      "source": [
        "# test using the testing dataset\n",
        "from sklearn.metrics import classification_report, confusion_matrix\n",
        "import seaborn as sns\n",
        "    \n",
        "def test_downstream_classifier():\n",
        "    loss_fn = nn.CrossEntropyLoss(ignore_index=word_to_ix['<pad>'])\n",
        "    downstream_model.load_state_dict(torch.load('best_downstream_model_.pth'))\n",
        "    downstream_model.eval()\n",
        "    \n",
        "    pred_labels = []\n",
        "    true_labels = []\n",
        "    total_loss = []\n",
        "\n",
        "    with torch.no_grad():\n",
        "        for x_forward, x_backward, lengths, labels in test_loader:\n",
        "            x_forward = x_forward.cuda()\n",
        "            x_backward = x_backward.cuda()\n",
        "            labels = labels.cuda()\n",
        "\n",
        "            output = downstream_model(x_forward, x_backward, lengths)\n",
        "\n",
        "            output = output.reshape(-1, output.shape[-1])\n",
        "\n",
        "            loss = loss_fn(output, labels)\n",
        "            total_loss.append(loss.item())\n",
        "\n",
        "            _, predicted = torch.max(output, 1)\n",
        "            pred_labels.extend(predicted.tolist())\n",
        "            true_labels.extend(labels.tolist())\n",
        "\n",
        "    mean_loss = np.mean(total_loss)\n",
        "    \n",
        "    print('Test Loss: {:.4f}'.format(mean_loss))\n",
        "    \n",
        "    # classification report and confusion matrix\n",
        "    print(classification_report(true_labels, pred_labels))\n",
        "    cm = confusion_matrix(true_labels, pred_labels)\n",
        "    sns.heatmap(cm, annot=True, fmt='d', cmap='Blues')\n",
        "    "
      ]
    },
    {
      "cell_type": "code",
      "execution_count": 54,
      "metadata": {},
      "outputs": [
        {
          "name": "stdout",
          "output_type": "stream",
          "text": [
            "Test Loss: 0.4017\n",
            "              precision    recall  f1-score   support\n",
            "\n",
            "           0       0.90      0.84      0.87      1900\n",
            "           1       0.92      0.95      0.94      1900\n",
            "           2       0.78      0.85      0.82      1900\n",
            "           3       0.84      0.79      0.81      1900\n",
            "\n",
            "    accuracy                           0.86      7600\n",
            "   macro avg       0.86      0.86      0.86      7600\n",
            "weighted avg       0.86      0.86      0.86      7600\n",
            "\n"
          ]
        },
        {
          "data": {
            "image/png": "[encoded data removed]",
            "text/plain": [
              "<Figure size 640x480 with 2 Axes>"
            ]
          },
          "metadata": {},
          "output_type": "display_data"
        }
      ],
      "source": [
        "test_downstream_classifier()"
      ]
    }
  ],
  "metadata": {
    "accelerator": "GPU",
    "colab": {
      "provenance": []
    },
    "kernelspec": {
      "display_name": "anlp",
      "language": "python",
      "name": "python3"
    },
    "language_info": {
      "codemirror_mode": {
        "name": "ipython",
        "version": 3
      },
      "file_extension": ".py",
      "mimetype": "text/x-python",
      "name": "python",
      "nbconvert_exporter": "python",
      "pygments_lexer": "ipython3",
      "version": "3.11.4"
    }
  },
  "nbformat": 4,
  "nbformat_minor": 0
}
